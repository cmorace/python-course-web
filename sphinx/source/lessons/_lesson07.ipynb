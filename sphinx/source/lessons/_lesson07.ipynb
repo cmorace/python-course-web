{
 "cells": [
  {
   "cell_type": "markdown",
   "metadata": {},
   "source": [
    "# Lesson 7"
   ]
  },
  {
   "cell_type": "markdown",
   "metadata": {},
   "source": [
    "So far we seen types of variables that store a single value"
   ]
  },
  {
   "cell_type": "code",
   "execution_count": null,
   "metadata": {},
   "outputs": [],
   "source": [
    "x = 4\n",
    "y = 3.14\n",
    "z = False"
   ]
  },
  {
   "cell_type": "markdown",
   "metadata": {},
   "source": [
    "Strings are kind of an exception, they are a collection of characters."
   ]
  },
  {
   "cell_type": "code",
   "execution_count": null,
   "metadata": {},
   "outputs": [],
   "source": [
    "y = 'strings'\n",
    "print('the first character is:', y[0])\n",
    "print('the length of characters in y is:', y[0])\n",
    "len(y)"
   ]
  },
  {
   "cell_type": "markdown",
   "metadata": {},
   "source": []
  },
  {
   "cell_type": "markdown",
   "metadata": {},
   "source": [
    "## List Initialization"
   ]
  },
  {
   "cell_type": "code",
   "execution_count": null,
   "metadata": {},
   "outputs": [],
   "source": [
    "empty_list = []\n",
    "print(empty_list)"
   ]
  },
  {
   "cell_type": "code",
   "execution_count": null,
   "metadata": {},
   "outputs": [],
   "source": [
    "my_int_list = [4, 8, 7, -7, 6]\n",
    "print(my_int_list)\n",
    "print(my_int_list[0])\n",
    "print(my_int_list[1])"
   ]
  },
  {
   "cell_type": "code",
   "execution_count": null,
   "metadata": {},
   "outputs": [],
   "source": [
    "my_bool_list = [True, False, True]\n",
    "print(my_bool_list)\n",
    "print(my_bool_list[0])\n",
    "print(my_bool_list[1])"
   ]
  },
  {
   "cell_type": "markdown",
   "metadata": {},
   "source": [
    "## The `append()` method"
   ]
  },
  {
   "cell_type": "code",
   "execution_count": null,
   "metadata": {},
   "outputs": [],
   "source": [
    "starting_list = []\n",
    "starting_list.append(1)\n",
    "print(starting_list)\n",
    "starting_list.append(2)\n",
    "print(starting_list)"
   ]
  },
  {
   "cell_type": "code",
   "execution_count": null,
   "metadata": {},
   "outputs": [],
   "source": [
    "colors = []\n",
    "for i in range(3):\n",
    "    color = input(\"what is your favorite color\")\n",
    "    colors.append(color)\n",
    "print(colors)"
   ]
  },
  {
   "cell_type": "markdown",
   "metadata": {},
   "source": [
    "## List Indexing and Iteration"
   ]
  },
  {
   "cell_type": "code",
   "execution_count": null,
   "metadata": {},
   "outputs": [],
   "source": [
    "names = ['Charles', 'Ivan', 'Hank', 'Feng-Jun']\n",
    "print('Hello',names[0])\n",
    "print('Hello',names[1])\n",
    "print('Hello',names[2])\n",
    "print('Hello',names[3])"
   ]
  },
  {
   "cell_type": "code",
   "execution_count": null,
   "metadata": {},
   "outputs": [],
   "source": [
    "names = ['Charles', 'Ivan', 'Hank', 'Feng-Jun']\n",
    "for i in range(4):\n",
    "    print('Hello', names[i])"
   ]
  },
  {
   "cell_type": "markdown",
   "metadata": {},
   "source": [
    "### The `len()` function"
   ]
  },
  {
   "cell_type": "code",
   "execution_count": null,
   "metadata": {},
   "outputs": [],
   "source": [
    "names = ['Charles', 'Ivan', 'Hank', 'Feng-Jun', 'Chris']\n",
    "for i in range(len(names)):\n",
    "    print('Hello', names[i])"
   ]
  },
  {
   "cell_type": "code",
   "execution_count": null,
   "metadata": {},
   "outputs": [],
   "source": [
    "names = ['Charles', 'Ivan', 'Hank', 'Feng-Jun', 'Chris', 'Sebastian']\n",
    "for i in range(len(names)):\n",
    "    print('Hello', names[len(names)-i-1])"
   ]
  },
  {
   "cell_type": "code",
   "execution_count": null,
   "metadata": {},
   "outputs": [],
   "source": [
    "names = ['Charles', 'Ivan', 'Hank', 'Feng-Jun', 'Chris', 'Sebastian']\n",
    "for i in range(len(names)):\n",
    "    print('Hello', names[-i-1])"
   ]
  },
  {
   "cell_type": "code",
   "execution_count": null,
   "metadata": {},
   "outputs": [],
   "source": [
    "for i in range(1,100,2):\n",
    "    print(i,end=',')"
   ]
  },
  {
   "cell_type": "markdown",
   "metadata": {},
   "source": [
    "### Conditionals in a for loop"
   ]
  },
  {
   "cell_type": "code",
   "execution_count": null,
   "metadata": {},
   "outputs": [],
   "source": [
    "names = ['Charles', 'Ivan', 'Hank', 'Feng-Jun', 'Chris', 'Sebastian']\n",
    "for i in range(len(names)):\n",
    "    if names[i] == 'Chris':\n",
    "        print(names[i],'went to study Scratch')\n",
    "    else:\n",
    "        print(names[i], 'is studying in Python')"
   ]
  },
  {
   "cell_type": "markdown",
   "metadata": {},
   "source": [
    "The `for n in some_list:` loop"
   ]
  },
  {
   "cell_type": "code",
   "execution_count": null,
   "metadata": {},
   "outputs": [],
   "source": [
    "names = ['Charles', 'Ivan', 'Hank', 'Feng-Jun', 'Chris', 'Sebastian']\n",
    "for n in names:\n",
    "    if n == 'Chris':\n",
    "        print(n,'went to study Scratch')\n",
    "    else:\n",
    "        print(n, 'is studying in Python')"
   ]
  },
  {
   "cell_type": "code",
   "execution_count": null,
   "metadata": {},
   "outputs": [],
   "source": []
  }
 ],
 "metadata": {
  "interpreter": {
   "hash": "18e07197cbb5fc0dd633c4fb89f98eb7fc8eeacfbcafbac19944ccf48d6efb73"
  },
  "kernelspec": {
   "display_name": "Python 3.8.5 64-bit ('3.8.5': pyenv)",
   "language": "python",
   "name": "python3"
  },
  "language_info": {
   "codemirror_mode": {
    "name": "ipython",
    "version": 3
   },
   "file_extension": ".py",
   "mimetype": "text/x-python",
   "name": "python",
   "nbconvert_exporter": "python",
   "pygments_lexer": "ipython3",
   "version": "3.8.5"
  },
  "orig_nbformat": 4
 },
 "nbformat": 4,
 "nbformat_minor": 2
}
