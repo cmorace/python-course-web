{
 "cells": [
  {
   "cell_type": "markdown",
   "metadata": {},
   "source": [
    "# Jupyter Notebooks\n",
    "\n",
    "[Jupyter notebooks](https://jupyter.org/) run bits of code interactively and are great environments for learning to program with Python. They can run as a web-application inside a web-browser or inside an integrated development environment such as VS Code. To use Jupyter notebooks you must have Python and Jupyter Notebooks installed on your computer. The easiest way to do this is to install Anaconda, which includes both Python and Jupyter. If you haven't installed Anaconda yet, see the [installation instructions](../../environment_setup.rst#Anaconda).\n",
    "\n",
    "---"
   ]
  },
  {
   "cell_type": "markdown",
   "metadata": {},
   "source": [
    "## Editors\n",
    "\n",
    "### Jupyter Notebook Web Application\n",
    "Once jupyter is installed, open your terminal application and type the command \n",
    "``` bash\n",
    "jupyter notebook\n",
    "```\n",
    "The jupyter notebook interface should open up in your web-browser. Use the `New` button to create a new notebook, the `Upload` button to open an existing notebook, and the file directory to navigate your file system. Check the Jupyter [documentation](https://jupyter-notebook.readthedocs.io/en/stable/notebook.html) for more details.\n",
    "\n",
    "### VS Code\n",
    "You can also create, open, and edit jupyter notebook `.ipynb` files in VS Code. VS Code takes a bit longer to load files and is missing some features of the traditional web interface such as copy and pasting cells, merging and splitting cells, and linking to other Jupyter notebooks.\n",
    "\n",
    "---"
   ]
  },
  {
   "cell_type": "markdown",
   "metadata": {},
   "source": [
    "## Document Structure\n",
    "\n",
    "Jupyter notebooks combine text and code in two different kinds of *cells*, markdown (text) cells and code cells.\n",
    "\n",
    "### Markdown Cells  \n",
    "\n",
    "In markdown cells, you can write plain text, [GitHub Flavored Markdown](https://guides.github.com/features/mastering-markdown/), or even HTML. You can add headings, lists, links, images, code snippets, and many other types of elements.\n",
    "\n",
    "### Code Cells\n",
    "Below is a code cell. You can run the code by clicking on the cell and using the keyboard command ```ctrl + enter```."
   ]
  },
  {
   "cell_type": "code",
   "execution_count": 4,
   "metadata": {},
   "outputs": [
    {
     "name": "stdout",
     "output_type": "stream",
     "text": [
      "this is a code cell\n"
     ]
    }
   ],
   "source": [
    "# print() is a Python function for outputing text\n",
    "print(\"this is a code cell\")"
   ]
  },
  {
   "cell_type": "markdown",
   "metadata": {},
   "source": [
    "### Command Mode vs. Edit Mode\n",
    "Cells can be in one of two states, command mode or edit mode. In command mode, we can create new cells, delete existing cells, of change the type of cell to either a morkdown cell or a code cell. In edit mode, we can edit and execute a cell's content (either markdown or Python code). To enter command mode click on the side bar to the left side of the cell. To enter edit mode click inside the cell. You can also use the `esc` and `enter` keys to switch between command and edit modes, respecively.\n",
    "\n",
    "---"
   ]
  },
  {
   "cell_type": "markdown",
   "metadata": {},
   "source": [
    "## Some Useful Keyboard Shortcuts\n",
    "\n",
    "<div class=\"alert alert-info\">Note\n",
    "<div class=\"alert alert-info\">\n",
    "All fo the following shortcuts are supported by the jupyter notebook web-application but may not be supported by other editors e.g. VS Code\n",
    "</div>\n",
    "</div>\n",
    "\n",
    "### Command Mode Shortcuts\n",
    "\n",
    "|  |  |\n",
    "|---|---|\n",
    "| ```enter```         |  switch from command mode to edit mode| \n",
    "| ```z```             |  undo           |\n",
    "|```shift + z```      |  reverse last undo|\n",
    "| ```m```             |  switch code cell to text|\n",
    "| ```y```             |  switch text cell to code| \n",
    "| ```up key```        |  move to the previous cell|\n",
    "| ```down key```      |  move to the next cell|\n",
    "| ```a```             |  create a new cell above the current cell| \n",
    "| ```b```             |  create a new cell below the current cell| \n",
    "| ```l```             |  toggle line numbers in a code cell|\n",
    "| ```dd```            |  delete the current cell| \n",
    "| ```shift + ↑```     |  select current cell and above cell|\n",
    "| ```shift + ↓```     |  select current cell and above cell|\n",
    "| ```shift + m```     |  merge selected cells|\n",
    "\n",
    "\n",
    "### Edit Mode Shortcuts\n",
    "\n",
    "|  |  |\n",
    "|---|---|\n",
    "|```ctrl + enter```    |  execute a cell|\n",
    "|```shift + enter```   |  execute a cell and move to next cell|\n",
    "|```alt + enter```     |  execute a cell and create a new cell below|\n",
    "| ```esc```            |  switch from edit mode to command mode| \n",
    "| ```ctrl + z```       |  undo           |\n",
    "|```shift + ctrl + z```|  reverse last undo|\n",
    "|```shift + ctrl + -```|  split cell at cursor|\n",
    "\n",
    "---"
   ]
  }
 ],
 "metadata": {
  "kernelspec": {
   "display_name": "Python 3.8.5 vscode virtualenv",
   "language": "python",
   "name": "python3"
  },
  "language_info": {
   "codemirror_mode": {
    "name": "ipython",
    "version": 3
   },
   "file_extension": ".py",
   "mimetype": "text/x-python",
   "name": "python",
   "nbconvert_exporter": "python",
   "pygments_lexer": "ipython3",
   "version": "3.8.5"
  }
 },
 "nbformat": 4,
 "nbformat_minor": 4
}
