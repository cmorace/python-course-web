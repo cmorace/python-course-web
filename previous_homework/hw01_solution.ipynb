{
 "cells": [
  {
   "cell_type": "markdown",
   "metadata": {},
   "source": [
    "# Homework 1 Solutions"
   ]
  },
  {
   "cell_type": "markdown",
   "metadata": {},
   "source": [
    "##  1. Comparison"
   ]
  },
  {
   "cell_type": "markdown",
   "metadata": {},
   "source": [
    "### Solution: Who is Younger?\n",
    "Get the names and ages of two people, then print which person is younger or if they are the same age."
   ]
  },
  {
   "cell_type": "code",
   "execution_count": 1,
   "metadata": {},
   "outputs": [
    {
     "name": "stdin",
     "output_type": "stream",
     "text": [
      "first name: Bob\n",
      "first age: 12\n",
      "second name: Sue\n",
      "second age: 14\n"
     ]
    },
    {
     "name": "stdout",
     "output_type": "stream",
     "text": [
      "Bob is younger than Sue\n"
     ]
    }
   ],
   "source": [
    "name_a = input(\"first name:\")\n",
    "age_a = int(input(\"first age:\"))\n",
    "name_b = input(\"second name:\")\n",
    "age_b = int(input(\"second age:\"))\n",
    "\n",
    "if age_a < age_b:\n",
    "    print(name_a,\"is younger than\", name_b)\n",
    "elif age_b < age_a:\n",
    "    print(name_b,\"is younger than\"< name_a)\n",
    "else:\n",
    "    print(name_a, \"and\", name_b, \"are the same age\")"
   ]
  },
  {
   "cell_type": "markdown",
   "metadata": {},
   "source": [
    "---"
   ]
  },
  {
   "cell_type": "markdown",
   "metadata": {},
   "source": [
    "## 2. Divisibility testing"
   ]
  },
  {
   "cell_type": "markdown",
   "metadata": {},
   "source": [
    "### Solution: Even or Odd?\n",
    "Use the `%` operator to check if an integer is even or odd."
   ]
  },
  {
   "cell_type": "code",
   "execution_count": 5,
   "metadata": {},
   "outputs": [
    {
     "name": "stdin",
     "output_type": "stream",
     "text": [
      "enter an integer 42\n"
     ]
    },
    {
     "name": "stdout",
     "output_type": "stream",
     "text": [
      "42 is even\n"
     ]
    }
   ],
   "source": [
    "x = int(input(\"enter an integer\"))\n",
    "if x % 2 == 0:\n",
    "    print(x, \"is even\")\n",
    "else:\n",
    "    print(x, \"is odd\")"
   ]
  },
  {
   "cell_type": "markdown",
   "metadata": {},
   "source": [
    "---"
   ]
  },
  {
   "cell_type": "markdown",
   "metadata": {},
   "source": [
    "## 3. Calculator"
   ]
  },
  {
   "cell_type": "markdown",
   "metadata": {},
   "source": [
    "### Solution: All Arithmetic Operators\n",
    "Use a conditional statement to calculate results for all of the arithmetic operators"
   ]
  },
  {
   "cell_type": "code",
   "execution_count": 10,
   "metadata": {
    "tags": []
   },
   "outputs": [
    {
     "name": "stdin",
     "output_type": "stream",
     "text": [
      "enter a number: 4\n",
      "enter an operator: //\n",
      "enter a number: 3\n"
     ]
    },
    {
     "name": "stdout",
     "output_type": "stream",
     "text": [
      "4.0 // 3.0 = 1.0\n"
     ]
    }
   ],
   "source": [
    "a = float(input(\"enter a number:\"))\n",
    "operator = input(\"enter an operator:\")\n",
    "b = float(input(\"enter a number:\"))\n",
    "\n",
    "if operator == \"+\":\n",
    "    result = a + b\n",
    "elif operator == \"-\":\n",
    "    result = a - b\n",
    "elif operator == \"*\":\n",
    "    result = a * b\n",
    "elif operator == \"/\":\n",
    "    if b == 0:\n",
    "        print(\"can not divide by 0\")\n",
    "    else:\n",
    "        result = a / b\n",
    "elif operator == \"%\":\n",
    "    result = a % b\n",
    "elif operator == \"**\":\n",
    "    result = a ** b\n",
    "elif operator == \"//\":\n",
    "    if b == 0:\n",
    "        print(\"can not divide by 0\")\n",
    "    else:\n",
    "        result = a // b\n",
    "else:\n",
    "    print(\"not a valid operator\")\n",
    "print(a, operator, b, \"=\", result)"
   ]
  },
  {
   "cell_type": "markdown",
   "metadata": {},
   "source": [
    "---"
   ]
  },
  {
   "cell_type": "markdown",
   "metadata": {},
   "source": [
    "## 4. Extension: Calculate While ..."
   ]
  },
  {
   "cell_type": "markdown",
   "metadata": {},
   "source": [
    "### Solution: Keep on Calculating\n",
    "\n",
    "Use a while loop to continue to get input from the user for your calculator\n",
    "\n",
    "Your calculator code should:\n",
    "\n",
    "1. get input data\n",
    "2. compute the output\n",
    "3. print output\n",
    "4. check if the user wants to quit\n",
    "5. if not, repeat\n",
    "\n",
    "You can reuse your solution from the previous exercise for most of the code."
   ]
  },
  {
   "cell_type": "code",
   "execution_count": 12,
   "metadata": {},
   "outputs": [
    {
     "name": "stdin",
     "output_type": "stream",
     "text": [
      "enter a number: 10\n",
      "enter an operator: //\n",
      "enter a number: 3\n"
     ]
    },
    {
     "name": "stdout",
     "output_type": "stream",
     "text": [
      "10.0 // 3.0 = 3.0\n"
     ]
    },
    {
     "name": "stdin",
     "output_type": "stream",
     "text": [
      "Type q to quit:  \n",
      "enter a number: 10\n",
      "enter an operator: %\n",
      "enter a number: 3\n"
     ]
    },
    {
     "name": "stdout",
     "output_type": "stream",
     "text": [
      "10.0 % 3.0 = 1.0\n"
     ]
    },
    {
     "name": "stdin",
     "output_type": "stream",
     "text": [
      "Type q to quit:  \n",
      "enter a number: 2\n",
      "enter an operator: **\n",
      "enter a number: 10\n"
     ]
    },
    {
     "name": "stdout",
     "output_type": "stream",
     "text": [
      "2.0 ** 10.0 = 1024.0\n"
     ]
    },
    {
     "name": "stdin",
     "output_type": "stream",
     "text": [
      "Type q to quit:  q\n"
     ]
    }
   ],
   "source": [
    "while True:\n",
    "    a = float(input(\"enter a number:\"))\n",
    "    operator = input(\"enter an operator:\")\n",
    "    b = float(input(\"enter a number:\"))\n",
    "\n",
    "    if operator == \"+\":\n",
    "        result = a + b\n",
    "    elif operator == \"-\":\n",
    "        result = a - b\n",
    "    elif operator == \"*\":\n",
    "        result = a * b\n",
    "    elif operator == \"/\":\n",
    "        if b == 0:\n",
    "            print(\"can not divide by 0\")\n",
    "            break\n",
    "        else:\n",
    "            result = a / b\n",
    "    elif operator == \"%\":\n",
    "        result = a % b\n",
    "    elif operator == \"**\":\n",
    "        result = a ** b\n",
    "    elif operator == \"//\":\n",
    "        if b == 0:\n",
    "            print(\"can not divide by 0\")\n",
    "            break\n",
    "        else:\n",
    "            result = a // b\n",
    "    else:\n",
    "        print(\"not a valid operator\")\n",
    "        break\n",
    "        \n",
    "    print(a, operator, b, \"=\", result)\n",
    "\n",
    "    do_again = input(\"Type q to quit: \")\n",
    "    \n",
    "    if do_again == 'q':\n",
    "        break"
   ]
  }
 ],
 "metadata": {
  "kernelspec": {
   "display_name": "Python 3.8.5 vscode virtualenv",
   "language": "python",
   "name": "python3"
  },
  "language_info": {
   "codemirror_mode": {
    "name": "ipython",
    "version": 3
   },
   "file_extension": ".py",
   "mimetype": "text/x-python",
   "name": "python",
   "nbconvert_exporter": "python",
   "pygments_lexer": "ipython3",
   "version": "3.8.5"
  }
 },
 "nbformat": 4,
 "nbformat_minor": 4
}
