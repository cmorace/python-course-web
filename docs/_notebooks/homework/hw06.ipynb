{
 "cells": [
  {
   "cell_type": "markdown",
   "metadata": {},
   "source": [
    "# Homework 6"
   ]
  },
  {
   "cell_type": "markdown",
   "metadata": {},
   "source": [
    "### Exercise: Map $x^2$\n",
    "Write a function that takes a list of numbers and returns a new list with the square of each number in the original list. For example: \n",
    "```python\n",
    "x = [1,4,2,5,3]\n",
    "x2 = map_squares(x)\n",
    "print(x2)\n",
    "```\n",
    "should print `[1,16,4,25,9]`"
   ]
  },
  {
   "cell_type": "code",
   "execution_count": 1,
   "metadata": {
    "execution": {
     "iopub.execute_input": "2022-02-23T12:23:02.663111Z",
     "iopub.status.busy": "2022-02-23T12:23:02.662806Z",
     "iopub.status.idle": "2022-02-23T12:23:02.675018Z",
     "shell.execute_reply": "2022-02-23T12:23:02.674558Z"
    }
   },
   "outputs": [
    {
     "name": "stdout",
     "output_type": "stream",
     "text": [
      "None\n"
     ]
    }
   ],
   "source": [
    "def map_squares(list_x):\n",
    "    # add your code here\n",
    "    pass\n",
    "\n",
    "\n",
    "# test\n",
    "x = [1,4,2,5,3]\n",
    "x2 = map_squares(x)\n",
    "print(x2)"
   ]
  },
  {
   "cell_type": "markdown",
   "metadata": {},
   "source": [
    "### Exercise: Fibonacci List\n",
    "Use a `for` loop and the `append` function to create a list with the first 100 Fibonacci numbers, i.e. `[1,1,2,3,5,8,13,21,34,55,...]`."
   ]
  },
  {
   "cell_type": "code",
   "execution_count": 2,
   "metadata": {
    "execution": {
     "iopub.execute_input": "2022-02-23T12:23:02.682948Z",
     "iopub.status.busy": "2022-02-23T12:23:02.682756Z",
     "iopub.status.idle": "2022-02-23T12:23:02.686201Z",
     "shell.execute_reply": "2022-02-23T12:23:02.685721Z"
    }
   },
   "outputs": [
    {
     "name": "stdout",
     "output_type": "stream",
     "text": [
      "[1, 1]\n"
     ]
    }
   ],
   "source": [
    "fibonacci_list = [1,1]\n",
    "for i in range(2,100):\n",
    "    # add code here\n",
    "    pass\n",
    "    \n",
    "print(fibonacci_list)"
   ]
  },
  {
   "cell_type": "markdown",
   "metadata": {},
   "source": [
    "### Exercise: List Equivalence\n",
    "Write a function to test if two lists have the same elements in the same order. The function should return `True` if the two lists are equivalent and `False` otherwise."
   ]
  },
  {
   "cell_type": "code",
   "execution_count": 3,
   "metadata": {
    "execution": {
     "iopub.execute_input": "2022-02-23T12:23:02.688681Z",
     "iopub.status.busy": "2022-02-23T12:23:02.688567Z",
     "iopub.status.idle": "2022-02-23T12:23:02.691608Z",
     "shell.execute_reply": "2022-02-23T12:23:02.691185Z"
    }
   },
   "outputs": [
    {
     "name": "stdout",
     "output_type": "stream",
     "text": [
      "None\n"
     ]
    }
   ],
   "source": [
    "def is_equal(list_a, list_b):\n",
    "    # add your code here\n",
    "    pass\n",
    "\n",
    "\n",
    "# test\n",
    "x = [1,4,2,5,3]\n",
    "y = [1,4,2,5,3]\n",
    "print(is_equal(x, y))"
   ]
  },
  {
   "cell_type": "markdown",
   "metadata": {},
   "source": [
    "### Exercise: Digit List\n",
    "Write a function that takes an integer and returns a list or its digits. For example,\n",
    "`to_digits(50394829384)` should return `[5,0,3,9,4,8,2,9,3,8,4]`. Do not use string conversion."
   ]
  },
  {
   "cell_type": "code",
   "execution_count": 4,
   "metadata": {
    "execution": {
     "iopub.execute_input": "2022-02-23T12:23:02.693974Z",
     "iopub.status.busy": "2022-02-23T12:23:02.693820Z",
     "iopub.status.idle": "2022-02-23T12:23:02.696525Z",
     "shell.execute_reply": "2022-02-23T12:23:02.696103Z"
    }
   },
   "outputs": [
    {
     "name": "stdout",
     "output_type": "stream",
     "text": [
      "None\n"
     ]
    }
   ],
   "source": [
    "def to_digits(number):\n",
    "    # add your code here\n",
    "    pass\n",
    "\n",
    "\n",
    "# test\n",
    "x = 50394829384\n",
    "x2 = to_digits(x)\n",
    "print(x2)"
   ]
  },
  {
   "cell_type": "markdown",
   "metadata": {},
   "source": [
    "### Exercise: Filter Primes\n",
    "Write a function that takes a list of numbers and returns a new list with the prime numbers in the original list. For example: \n",
    "```python\n",
    "x = [1,2,3,4,5,6,7,8,9,10]\n",
    "x2 = filter_primes(x)\n",
    "print(x2)\n",
    "```\n",
    "should output `[2,3,5,7]`. \n",
    "\n",
    "Recall, a prime number is a positive integer that is divisible by no other number but 1 and itself."
   ]
  },
  {
   "cell_type": "code",
   "execution_count": 5,
   "metadata": {
    "execution": {
     "iopub.execute_input": "2022-02-23T12:23:02.698955Z",
     "iopub.status.busy": "2022-02-23T12:23:02.698816Z",
     "iopub.status.idle": "2022-02-23T12:23:02.701524Z",
     "shell.execute_reply": "2022-02-23T12:23:02.701181Z"
    }
   },
   "outputs": [
    {
     "name": "stdout",
     "output_type": "stream",
     "text": [
      "None\n"
     ]
    }
   ],
   "source": [
    "def filter_primes(list_x):\n",
    "    # add your code here\n",
    "    pass\n",
    "\n",
    "\n",
    "# test\n",
    "x = [1,2,3,4,5,6,7,8,9,10]\n",
    "x2 = filter_primes(x)\n",
    "print(x2)"
   ]
  }
 ],
 "metadata": {
  "kernelspec": {
   "display_name": "Python 3.8.5 vscode virtualenv",
   "language": "python",
   "name": "python3"
  },
  "language_info": {
   "codemirror_mode": {
    "name": "ipython",
    "version": 3
   },
   "file_extension": ".py",
   "mimetype": "text/x-python",
   "name": "python",
   "nbconvert_exporter": "python",
   "pygments_lexer": "ipython3",
   "version": "3.9.9"
  }
 },
 "nbformat": 4,
 "nbformat_minor": 4
}
