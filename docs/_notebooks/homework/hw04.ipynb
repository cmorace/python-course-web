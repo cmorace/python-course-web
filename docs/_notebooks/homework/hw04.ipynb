{
 "cells": [
  {
   "cell_type": "markdown",
   "metadata": {},
   "source": [
    "# Homework 4"
   ]
  },
  {
   "cell_type": "markdown",
   "metadata": {},
   "source": [
    "\n",
    "This homework's topic is python lists. Lists in Python are data structures that store a collection of objects. These objects can be types like `bool`, `int`, `float`, `str`, or even classes like `Sprite` or `Label`.\n",
    "\n",
    "## List Construction\n",
    "\n",
    "There are two ways to construct an empty list"
   ]
  },
  {
   "cell_type": "code",
   "execution_count": 1,
   "metadata": {
    "execution": {
     "iopub.execute_input": "2020-11-07T02:39:35.029019Z",
     "iopub.status.busy": "2020-11-07T02:39:35.027946Z",
     "iopub.status.idle": "2020-11-07T02:39:35.030339Z",
     "shell.execute_reply": "2020-11-07T02:39:35.030905Z"
    }
   },
   "outputs": [],
   "source": [
    "list_a = []\n",
    "list_b = list()"
   ]
  },
  {
   "cell_type": "markdown",
   "metadata": {},
   "source": [
    "We can create a non-empyt list like this."
   ]
  },
  {
   "cell_type": "code",
   "execution_count": 2,
   "metadata": {
    "execution": {
     "iopub.execute_input": "2020-11-07T02:39:35.035637Z",
     "iopub.status.busy": "2020-11-07T02:39:35.034840Z",
     "iopub.status.idle": "2020-11-07T02:39:35.037102Z",
     "shell.execute_reply": "2020-11-07T02:39:35.037665Z"
    }
   },
   "outputs": [],
   "source": [
    "list_c = [1,1,2,3,5,8,13,21]"
   ]
  },
  {
   "cell_type": "markdown",
   "metadata": {},
   "source": [
    "**Note:** do not name a variable `list = []`. `list` is a python keyword and should never be used as a variable name."
   ]
  },
  {
   "cell_type": "markdown",
   "metadata": {},
   "source": [
    "### Exercise: Invalid Syntax"
   ]
  },
  {
   "cell_type": "markdown",
   "metadata": {},
   "source": [
    "Fix the following syntax errors so that the variable `list_d` is set to an empy list and the variable `list_e` is set to a non-empty list."
   ]
  },
  {
   "cell_type": "code",
   "execution_count": 3,
   "metadata": {
    "execution": {
     "iopub.execute_input": "2020-11-07T02:39:35.090475Z",
     "iopub.status.busy": "2020-11-07T02:39:35.041094Z",
     "iopub.status.idle": "2020-11-07T02:39:35.091823Z",
     "shell.execute_reply": "2020-11-07T02:39:35.091215Z"
    }
   },
   "outputs": [],
   "source": [
    "# list_d[]\n",
    "# list_e[1,2,3,4,5]"
   ]
  },
  {
   "cell_type": "markdown",
   "metadata": {},
   "source": [
    "---\n",
    "\n",
    "## The `append()` Method\n",
    "The `append()` method adds elements to the end of a list. For example,"
   ]
  },
  {
   "cell_type": "code",
   "execution_count": 4,
   "metadata": {
    "execution": {
     "iopub.execute_input": "2020-11-07T02:39:35.096560Z",
     "iopub.status.busy": "2020-11-07T02:39:35.095756Z",
     "iopub.status.idle": "2020-11-07T02:39:35.098690Z",
     "shell.execute_reply": "2020-11-07T02:39:35.099246Z"
    }
   },
   "outputs": [
    {
     "name": "stdout",
     "output_type": "stream",
     "text": [
      "[1, 2, 3]\n"
     ]
    }
   ],
   "source": [
    "list_f = [1, 2]\n",
    "list_f.append(3)\n",
    "print(list_f)"
   ]
  },
  {
   "cell_type": "markdown",
   "metadata": {},
   "source": [
    "### Exercise: Append Fibonacci\n",
    "Use the `append()` function to add the next Fibonacci number, i.e. 3, to `list_g`."
   ]
  },
  {
   "cell_type": "code",
   "execution_count": 5,
   "metadata": {
    "execution": {
     "iopub.execute_input": "2020-11-07T02:39:35.103788Z",
     "iopub.status.busy": "2020-11-07T02:39:35.102928Z",
     "iopub.status.idle": "2020-11-07T02:39:35.105352Z",
     "shell.execute_reply": "2020-11-07T02:39:35.105916Z"
    }
   },
   "outputs": [],
   "source": [
    "list_g = [1,1,2]"
   ]
  },
  {
   "cell_type": "markdown",
   "metadata": {},
   "source": [
    "---\n",
    "\n",
    "## Accessing List Elements\n",
    "Lists elements can be accessed using an interger index. The first element is accessed with the index 0."
   ]
  },
  {
   "cell_type": "code",
   "execution_count": 6,
   "metadata": {
    "execution": {
     "iopub.execute_input": "2020-11-07T02:39:35.110557Z",
     "iopub.status.busy": "2020-11-07T02:39:35.109764Z",
     "iopub.status.idle": "2020-11-07T02:39:35.112680Z",
     "shell.execute_reply": "2020-11-07T02:39:35.113240Z"
    }
   },
   "outputs": [
    {
     "name": "stdout",
     "output_type": "stream",
     "text": [
      "1\n"
     ]
    }
   ],
   "source": [
    "list_h = [1,2,3]\n",
    "a = list_h[0]\n",
    "print(a)"
   ]
  },
  {
   "cell_type": "markdown",
   "metadata": {},
   "source": [
    "### Exercise: Index Out Of Range\n",
    "Fix the error to print out the last element of `list_i`, i.e. 'd'."
   ]
  },
  {
   "cell_type": "code",
   "execution_count": 7,
   "metadata": {
    "execution": {
     "iopub.execute_input": "2020-11-07T02:39:35.117594Z",
     "iopub.status.busy": "2020-11-07T02:39:35.116791Z",
     "iopub.status.idle": "2020-11-07T02:39:35.119198Z",
     "shell.execute_reply": "2020-11-07T02:39:35.119760Z"
    }
   },
   "outputs": [],
   "source": [
    "list_i = ['a','z','c','d']\n",
    "# print(list_i[4])"
   ]
  },
  {
   "cell_type": "markdown",
   "metadata": {},
   "source": [
    "---\n",
    "\n",
    "## The `len()` Function\n",
    "The `len()` function returns the number of elements in a list."
   ]
  },
  {
   "cell_type": "code",
   "execution_count": 8,
   "metadata": {
    "execution": {
     "iopub.execute_input": "2020-11-07T02:39:35.124350Z",
     "iopub.status.busy": "2020-11-07T02:39:35.123585Z",
     "iopub.status.idle": "2020-11-07T02:39:35.126264Z",
     "shell.execute_reply": "2020-11-07T02:39:35.126817Z"
    }
   },
   "outputs": [
    {
     "name": "stdout",
     "output_type": "stream",
     "text": [
      "2\n"
     ]
    }
   ],
   "source": [
    "list_j = [True, False]\n",
    "list_j_size = len(list_j)\n",
    "print(list_j_size)"
   ]
  },
  {
   "cell_type": "markdown",
   "metadata": {},
   "source": [
    "### Exercise: Guess How Many\n",
    "Read the code below and guess how many elements are in `list_h`. Print the number of elements in `list_h` using the `len()` function and see if you are correct."
   ]
  },
  {
   "cell_type": "code",
   "execution_count": 9,
   "metadata": {
    "execution": {
     "iopub.execute_input": "2020-11-07T02:39:35.131929Z",
     "iopub.status.busy": "2020-11-07T02:39:35.130978Z",
     "iopub.status.idle": "2020-11-07T02:39:35.133006Z",
     "shell.execute_reply": "2020-11-07T02:39:35.133767Z"
    }
   },
   "outputs": [],
   "source": [
    "list_k = []\n",
    "for k in range(1, 56, 5):\n",
    "    list_k.append(k)\n",
    "# add code here to print the length of list_k"
   ]
  },
  {
   "cell_type": "markdown",
   "metadata": {},
   "source": [
    "---\n",
    "\n",
    "## The `clear()` Method\n",
    "The `clear()` function erases all elements in a list."
   ]
  },
  {
   "cell_type": "code",
   "execution_count": 10,
   "metadata": {
    "execution": {
     "iopub.execute_input": "2020-11-07T02:39:35.138580Z",
     "iopub.status.busy": "2020-11-07T02:39:35.137750Z",
     "iopub.status.idle": "2020-11-07T02:39:35.140914Z",
     "shell.execute_reply": "2020-11-07T02:39:35.141507Z"
    }
   },
   "outputs": [
    {
     "name": "stdout",
     "output_type": "stream",
     "text": [
      "[]\n"
     ]
    }
   ],
   "source": [
    "list_l = [\"1\",\"!\",\"2\",\"@\",\"3\",\"#\"]\n",
    "list_l.clear()\n",
    "print(list_l)"
   ]
  },
  {
   "cell_type": "markdown",
   "metadata": {},
   "source": [
    "### Exercise: Print My List\n",
    "Use the `clear()` and `append()` functions so that `print(list_m)` prints out `[42]`"
   ]
  },
  {
   "cell_type": "code",
   "execution_count": 11,
   "metadata": {
    "execution": {
     "iopub.execute_input": "2020-11-07T02:39:35.180135Z",
     "iopub.status.busy": "2020-11-07T02:39:35.171737Z",
     "iopub.status.idle": "2020-11-07T02:39:35.221074Z",
     "shell.execute_reply": "2020-11-07T02:39:35.222871Z"
    }
   },
   "outputs": [
    {
     "name": "stdout",
     "output_type": "stream",
     "text": [
      "[0, 1, 2, 3, 4, 5, 6, 7, 8, 9, 10, 11, 12, 13, 14, 15, 16, 17, 18, 19, 20, 21, 22, 23, 24, 25, 26, 27, 28, 29, 30, 31, 32, 33, 34, 35, 36, 37, 38, 39, 40, 41, 42, 43, 44, 45, 46, 47, 48, 49, 50, 51, 52, 53, 54, 55, 56, 57, 58, 59, 60, 61, 62, 63, 64, 65, 66, 67, 68, 69, 70, 71, 72, 73, 74, 75, 76, 77, 78, 79, 80, 81, 82, 83, 84, 85, 86, 87, 88, 89, 90, 91, 92, 93, 94, 95, 96, 97, 98, 99]\n"
     ]
    }
   ],
   "source": [
    "list_m = list(range(100))\n",
    "# add your code here\n",
    "print(list_m)"
   ]
  },
  {
   "cell_type": "markdown",
   "metadata": {},
   "source": [
    "---\n",
    "\n",
    "## More Exercises"
   ]
  },
  {
   "cell_type": "markdown",
   "metadata": {},
   "source": [
    "### Exercise: Map $x^2$\n",
    "Write a function that takes a list of numbers and returns a new list with the square of each number in the original list. For example: \n",
    "```python\n",
    "x = [1,4,2,5,3]\n",
    "x2 = map_squares(x)\n",
    "print(x2)\n",
    "```\n",
    "should output `[1,16,4,25,9`]"
   ]
  },
  {
   "cell_type": "code",
   "execution_count": 12,
   "metadata": {
    "execution": {
     "iopub.execute_input": "2020-11-07T02:39:35.240032Z",
     "iopub.status.busy": "2020-11-07T02:39:35.238815Z",
     "iopub.status.idle": "2020-11-07T02:39:35.242830Z",
     "shell.execute_reply": "2020-11-07T02:39:35.243401Z"
    }
   },
   "outputs": [
    {
     "name": "stdout",
     "output_type": "stream",
     "text": [
      "None\n"
     ]
    }
   ],
   "source": [
    "def map_squares(list_x):\n",
    "    # add your code here\n",
    "    pass\n",
    "\n",
    "\n",
    "# test\n",
    "x = [1,4,2,5,3]\n",
    "x2 = map_squares(x)\n",
    "print(x2)"
   ]
  },
  {
   "cell_type": "markdown",
   "metadata": {},
   "source": [
    "### Exercise: Fibonacci List\n",
    "Use a `for` loop and the `append` function to create a list with the first 100 Fibonacci numbers, i.e. `[1,1,2,3,5,8,13,21,34,55,...]`"
   ]
  },
  {
   "cell_type": "code",
   "execution_count": 13,
   "metadata": {
    "execution": {
     "iopub.execute_input": "2020-11-07T02:39:35.251448Z",
     "iopub.status.busy": "2020-11-07T02:39:35.248937Z",
     "iopub.status.idle": "2020-11-07T02:39:35.255369Z",
     "shell.execute_reply": "2020-11-07T02:39:35.256103Z"
    }
   },
   "outputs": [
    {
     "name": "stdout",
     "output_type": "stream",
     "text": [
      "[1, 1]\n"
     ]
    }
   ],
   "source": [
    "fibonacci_list = [1,1]\n",
    "for i in range(2,100):\n",
    "    # add code here\n",
    "    pass\n",
    "    \n",
    "print(fibonacci_list)"
   ]
  },
  {
   "cell_type": "markdown",
   "metadata": {},
   "source": [
    "### Exercise: List Equivalence\n",
    "Write a function to test if two lists have the same elements in the same order. The function should return `True` if the two lists are equivalent and `False` otherwise."
   ]
  },
  {
   "cell_type": "code",
   "execution_count": 14,
   "metadata": {
    "execution": {
     "iopub.execute_input": "2020-11-07T02:39:35.266068Z",
     "iopub.status.busy": "2020-11-07T02:39:35.264741Z",
     "iopub.status.idle": "2020-11-07T02:39:35.269089Z",
     "shell.execute_reply": "2020-11-07T02:39:35.269652Z"
    }
   },
   "outputs": [
    {
     "name": "stdout",
     "output_type": "stream",
     "text": [
      "None\n"
     ]
    }
   ],
   "source": [
    "def is_equal(list_a, list_b):\n",
    "    # add your code here\n",
    "    pass\n",
    "\n",
    "\n",
    "# test\n",
    "x = [1,4,2,5,3]\n",
    "y = [1,4,2,5,3]\n",
    "print(is_equal(x, y))"
   ]
  },
  {
   "cell_type": "markdown",
   "metadata": {},
   "source": [
    "### Exercise: Digit List\n",
    "Write a function that takes an integer and returns a list or its digits. For example,\n",
    "`to_digits(50394829384)` should return `[5,0,3,9,4,8,2,9,3,8,4]`. Do not use string conversion."
   ]
  },
  {
   "cell_type": "code",
   "execution_count": 15,
   "metadata": {
    "execution": {
     "iopub.execute_input": "2020-11-07T02:39:35.274562Z",
     "iopub.status.busy": "2020-11-07T02:39:35.273789Z",
     "iopub.status.idle": "2020-11-07T02:39:35.276513Z",
     "shell.execute_reply": "2020-11-07T02:39:35.277092Z"
    }
   },
   "outputs": [
    {
     "name": "stdout",
     "output_type": "stream",
     "text": [
      "None\n"
     ]
    }
   ],
   "source": [
    "def to_digits(number):\n",
    "    # add your code here\n",
    "    pass\n",
    "\n",
    "\n",
    "# test\n",
    "x = 50394829384\n",
    "x2 = to_digits(x)\n",
    "print(x2)"
   ]
  },
  {
   "cell_type": "markdown",
   "metadata": {},
   "source": [
    "### Exercise: Filter Primes\n",
    "Write a function that takes a list of numbers and returns a new list with the prime numbers in the original list. For example: \n",
    "```python\n",
    "x = [1,2,3,4,5,6,7,8,9,10]\n",
    "x2 = filter_primes(x)\n",
    "print(x2)\n",
    "```\n",
    "should output `[2,3,5,7`]. Recall, a prime number is a positive integer that is divisible by no other number but 1 and itself."
   ]
  },
  {
   "cell_type": "code",
   "execution_count": 16,
   "metadata": {
    "execution": {
     "iopub.execute_input": "2020-11-07T02:39:35.282356Z",
     "iopub.status.busy": "2020-11-07T02:39:35.281461Z",
     "iopub.status.idle": "2020-11-07T02:39:35.284399Z",
     "shell.execute_reply": "2020-11-07T02:39:35.284955Z"
    }
   },
   "outputs": [
    {
     "name": "stdout",
     "output_type": "stream",
     "text": [
      "None\n"
     ]
    }
   ],
   "source": [
    "def filter_primes(list_x):\n",
    "    # add your code here\n",
    "    pass\n",
    "\n",
    "\n",
    "# test\n",
    "x = [1,2,3,4,5,6,7,8,9,10]\n",
    "x2 = filter_primes(x)\n",
    "print(x2)"
   ]
  }
 ],
 "metadata": {
  "kernelspec": {
   "display_name": "Python 3.8.5 vscode virtualenv",
   "language": "python",
   "name": "python3"
  },
  "language_info": {
   "codemirror_mode": {
    "name": "ipython",
    "version": 3
   },
   "file_extension": ".py",
   "mimetype": "text/x-python",
   "name": "python",
   "nbconvert_exporter": "python",
   "pygments_lexer": "ipython3",
   "version": "3.8.5"
  }
 },
 "nbformat": 4,
 "nbformat_minor": 4
}
