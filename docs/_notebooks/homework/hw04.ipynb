{
 "cells": [
  {
   "cell_type": "markdown",
   "metadata": {},
   "source": [
    "# Homework 4"
   ]
  },
  {
   "cell_type": "markdown",
   "metadata": {},
   "source": [
    "\n",
    "This homework's topic is python lists. Lists in Python are data structures that store a collection of objects. These objects can be types like `bool`, `int`, `float`, `str`, or even classes like `Sprite` or `Label`.\n",
    "\n",
    "## List Construction\n",
    "\n",
    "There are two ways to construct an empty list"
   ]
  },
  {
   "cell_type": "code",
   "execution_count": 1,
   "metadata": {
    "execution": {
     "iopub.execute_input": "2020-11-20T16:51:10.425714Z",
     "iopub.status.busy": "2020-11-20T16:51:10.424777Z",
     "iopub.status.idle": "2020-11-20T16:51:10.427264Z",
     "shell.execute_reply": "2020-11-20T16:51:10.427828Z"
    }
   },
   "outputs": [],
   "source": [
    "list_a = []\n",
    "list_b = list()"
   ]
  },
  {
   "cell_type": "markdown",
   "metadata": {},
   "source": [
    "We can create a non-empyt list like this."
   ]
  },
  {
   "cell_type": "code",
   "execution_count": 2,
   "metadata": {
    "execution": {
     "iopub.execute_input": "2020-11-20T16:51:10.432780Z",
     "iopub.status.busy": "2020-11-20T16:51:10.431882Z",
     "iopub.status.idle": "2020-11-20T16:51:10.434490Z",
     "shell.execute_reply": "2020-11-20T16:51:10.435123Z"
    }
   },
   "outputs": [],
   "source": [
    "list_c = [1,1,2,3,5,8,13,21]"
   ]
  },
  {
   "cell_type": "markdown",
   "metadata": {},
   "source": [
    "**Note:** do not name a variable `list = []`. `list` is a python keyword and should never be used as a variable name."
   ]
  },
  {
   "cell_type": "markdown",
   "metadata": {},
   "source": [
    "### Exercise: Invalid Syntax"
   ]
  },
  {
   "cell_type": "markdown",
   "metadata": {},
   "source": [
    "Fix the following syntax errors so that the variable `list_d` is set to an empy list and the variable `list_e` is set to a non-empty list."
   ]
  },
  {
   "cell_type": "code",
   "execution_count": 3,
   "metadata": {
    "execution": {
     "iopub.execute_input": "2020-11-20T16:51:10.439552Z",
     "iopub.status.busy": "2020-11-20T16:51:10.438752Z",
     "iopub.status.idle": "2020-11-20T16:51:10.440888Z",
     "shell.execute_reply": "2020-11-20T16:51:10.441451Z"
    }
   },
   "outputs": [],
   "source": [
    "# list_d[]\n",
    "# list_e[1,2,3,4,5]"
   ]
  },
  {
   "cell_type": "markdown",
   "metadata": {},
   "source": [
    "---\n",
    "\n",
    "## The `append()` Method\n",
    "The `append()` method adds elements to the end of a list. For example,"
   ]
  },
  {
   "cell_type": "code",
   "execution_count": 4,
   "metadata": {
    "execution": {
     "iopub.execute_input": "2020-11-20T16:51:10.446353Z",
     "iopub.status.busy": "2020-11-20T16:51:10.445347Z",
     "iopub.status.idle": "2020-11-20T16:51:10.448561Z",
     "shell.execute_reply": "2020-11-20T16:51:10.449117Z"
    }
   },
   "outputs": [
    {
     "name": "stdout",
     "output_type": "stream",
     "text": [
      "[-2, 105]\n"
     ]
    }
   ],
   "source": [
    "list_f = [-2]\n",
    "list_f.append(105)\n",
    "print(list_f)"
   ]
  },
  {
   "cell_type": "markdown",
   "metadata": {},
   "source": [
    "### Exercise: Append Fibonacci\n",
    "Use the `append()` function to add the next Fibonacci number, i.e. 3, to `list_g`."
   ]
  },
  {
   "cell_type": "code",
   "execution_count": 5,
   "metadata": {
    "execution": {
     "iopub.execute_input": "2020-11-20T16:51:10.454200Z",
     "iopub.status.busy": "2020-11-20T16:51:10.453395Z",
     "iopub.status.idle": "2020-11-20T16:51:10.456200Z",
     "shell.execute_reply": "2020-11-20T16:51:10.456755Z"
    }
   },
   "outputs": [
    {
     "name": "stdout",
     "output_type": "stream",
     "text": [
      "[1, 1, 2]\n"
     ]
    }
   ],
   "source": [
    "list_g = [1,1,2]\n",
    "# append here\n",
    "print(list_g)"
   ]
  },
  {
   "cell_type": "markdown",
   "metadata": {},
   "source": [
    "---\n",
    "\n",
    "## Accessing List Elements\n",
    "Lists elements can be accessed using an interger index. The first element is accessed with the index 0."
   ]
  },
  {
   "cell_type": "code",
   "execution_count": 6,
   "metadata": {
    "execution": {
     "iopub.execute_input": "2020-11-20T16:51:10.461989Z",
     "iopub.status.busy": "2020-11-20T16:51:10.461135Z",
     "iopub.status.idle": "2020-11-20T16:51:10.464127Z",
     "shell.execute_reply": "2020-11-20T16:51:10.464680Z"
    }
   },
   "outputs": [
    {
     "name": "stdout",
     "output_type": "stream",
     "text": [
      "7\n"
     ]
    }
   ],
   "source": [
    "list_h = [1,2,94,7,16,1]\n",
    "a = list_h[3]\n",
    "print(a)"
   ]
  },
  {
   "cell_type": "markdown",
   "metadata": {},
   "source": [
    "### Exercise: Index Out Of Range\n",
    "Fix the error to print out the last element of `list_i`, i.e. 'd'."
   ]
  },
  {
   "cell_type": "code",
   "execution_count": 7,
   "metadata": {
    "execution": {
     "iopub.execute_input": "2020-11-20T16:51:10.469829Z",
     "iopub.status.busy": "2020-11-20T16:51:10.468833Z",
     "iopub.status.idle": "2020-11-20T16:51:10.471442Z",
     "shell.execute_reply": "2020-11-20T16:51:10.472017Z"
    }
   },
   "outputs": [],
   "source": [
    "list_i = ['a','z','c','d']\n",
    "#print(list_i[4]) # <- fix this"
   ]
  },
  {
   "cell_type": "markdown",
   "metadata": {},
   "source": [
    "---\n",
    "\n",
    "## The `len()` Function\n",
    "The `len()` function returns the number of elements in a list."
   ]
  },
  {
   "cell_type": "code",
   "execution_count": 8,
   "metadata": {
    "execution": {
     "iopub.execute_input": "2020-11-20T16:51:10.476793Z",
     "iopub.status.busy": "2020-11-20T16:51:10.475919Z",
     "iopub.status.idle": "2020-11-20T16:51:10.478782Z",
     "shell.execute_reply": "2020-11-20T16:51:10.479338Z"
    }
   },
   "outputs": [
    {
     "name": "stdout",
     "output_type": "stream",
     "text": [
      "2\n"
     ]
    }
   ],
   "source": [
    "list_j = [True, False]\n",
    "list_j_size = len([True, False])\n",
    "print(list_j_size)"
   ]
  },
  {
   "cell_type": "markdown",
   "metadata": {},
   "source": [
    "### Exercise: Guess How Many\n",
    "Read the code below and guess how many elements are in `list_h`. Print the number of elements in `list_h` using the `len()` function and see if you are correct."
   ]
  },
  {
   "cell_type": "code",
   "execution_count": 9,
   "metadata": {
    "execution": {
     "iopub.execute_input": "2020-11-20T16:51:10.484470Z",
     "iopub.status.busy": "2020-11-20T16:51:10.483664Z",
     "iopub.status.idle": "2020-11-20T16:51:10.485992Z",
     "shell.execute_reply": "2020-11-20T16:51:10.486567Z"
    }
   },
   "outputs": [],
   "source": [
    "list_k = []\n",
    "for k in range(1, 62, 5):\n",
    "    list_k.append(k)\n",
    "# add code here to print the length of list_k\n"
   ]
  },
  {
   "cell_type": "markdown",
   "metadata": {},
   "source": [
    "---\n",
    "\n",
    "## The `clear()` Method\n",
    "The `clear()` function erases all elements in a list."
   ]
  },
  {
   "cell_type": "code",
   "execution_count": 10,
   "metadata": {
    "execution": {
     "iopub.execute_input": "2020-11-20T16:51:10.491320Z",
     "iopub.status.busy": "2020-11-20T16:51:10.490455Z",
     "iopub.status.idle": "2020-11-20T16:51:10.494044Z",
     "shell.execute_reply": "2020-11-20T16:51:10.494609Z"
    }
   },
   "outputs": [
    {
     "name": "stdout",
     "output_type": "stream",
     "text": [
      "[]\n"
     ]
    }
   ],
   "source": [
    "list_l = [\"1\",\"!\",\"2\",\"@\",\"3\",\"#\"]\n",
    "list_l.clear()\n",
    "print(list_l)"
   ]
  },
  {
   "cell_type": "markdown",
   "metadata": {},
   "source": [
    "### Exercise: Print My List\n",
    "Use the `clear()` and `append()` functions so that `print(list_m)` prints out `[42]`"
   ]
  },
  {
   "cell_type": "code",
   "execution_count": 11,
   "metadata": {
    "execution": {
     "iopub.execute_input": "2020-11-20T16:51:10.499309Z",
     "iopub.status.busy": "2020-11-20T16:51:10.498477Z",
     "iopub.status.idle": "2020-11-20T16:51:10.501265Z",
     "shell.execute_reply": "2020-11-20T16:51:10.501819Z"
    }
   },
   "outputs": [
    {
     "name": "stdout",
     "output_type": "stream",
     "text": [
      "[1, 16, 31, 46, 61, 76, 91]\n"
     ]
    }
   ],
   "source": [
    "list_m = list(range(1,100,15))\n",
    "# add your code here\n",
    "print(list_m)"
   ]
  },
  {
   "cell_type": "markdown",
   "metadata": {},
   "source": [
    "---\n",
    "\n",
    "## More Exercises"
   ]
  },
  {
   "cell_type": "markdown",
   "metadata": {},
   "source": [
    "### Exercise: Map $x^2$\n",
    "Write a function that takes a list of numbers and returns a new list with the square of each number in the original list. For example: \n",
    "```python\n",
    "x = [1,4,2,5,3]\n",
    "x2 = map_squares(x)\n",
    "print(x2)\n",
    "```\n",
    "should print `[1,16,4,25,9]`"
   ]
  },
  {
   "cell_type": "code",
   "execution_count": 12,
   "metadata": {
    "execution": {
     "iopub.execute_input": "2020-11-20T16:51:10.507142Z",
     "iopub.status.busy": "2020-11-20T16:51:10.506354Z",
     "iopub.status.idle": "2020-11-20T16:51:10.509126Z",
     "shell.execute_reply": "2020-11-20T16:51:10.509687Z"
    }
   },
   "outputs": [
    {
     "name": "stdout",
     "output_type": "stream",
     "text": [
      "None\n"
     ]
    }
   ],
   "source": [
    "def map_squares(list_x):\n",
    "    # add your code here\n",
    "    pass\n",
    "\n",
    "\n",
    "# test\n",
    "x = [1,4,2,5,3]\n",
    "x2 = map_squares(x)\n",
    "print(x2)"
   ]
  },
  {
   "cell_type": "markdown",
   "metadata": {},
   "source": [
    "### Exercise: Fibonacci List\n",
    "Use a `for` loop and the `append` function to create a list with the first 100 Fibonacci numbers, i.e. `[1,1,2,3,5,8,13,21,34,55,...]`."
   ]
  },
  {
   "cell_type": "code",
   "execution_count": 13,
   "metadata": {
    "execution": {
     "iopub.execute_input": "2020-11-20T16:51:10.514709Z",
     "iopub.status.busy": "2020-11-20T16:51:10.513731Z",
     "iopub.status.idle": "2020-11-20T16:51:10.517057Z",
     "shell.execute_reply": "2020-11-20T16:51:10.517623Z"
    }
   },
   "outputs": [
    {
     "name": "stdout",
     "output_type": "stream",
     "text": [
      "[1, 1]\n"
     ]
    }
   ],
   "source": [
    "fibonacci_list = [1,1]\n",
    "for i in range(2,100):\n",
    "    # add code here\n",
    "    pass\n",
    "    \n",
    "print(fibonacci_list)"
   ]
  },
  {
   "cell_type": "markdown",
   "metadata": {},
   "source": [
    "### Exercise: List Equivalence\n",
    "Write a function to test if two lists have the same elements in the same order. The function should return `True` if the two lists are equivalent and `False` otherwise."
   ]
  },
  {
   "cell_type": "code",
   "execution_count": 14,
   "metadata": {
    "execution": {
     "iopub.execute_input": "2020-11-20T16:51:10.523038Z",
     "iopub.status.busy": "2020-11-20T16:51:10.522144Z",
     "iopub.status.idle": "2020-11-20T16:51:10.524945Z",
     "shell.execute_reply": "2020-11-20T16:51:10.525500Z"
    }
   },
   "outputs": [
    {
     "name": "stdout",
     "output_type": "stream",
     "text": [
      "None\n"
     ]
    }
   ],
   "source": [
    "def is_equal(list_a, list_b):\n",
    "    # add your code here\n",
    "    pass\n",
    "\n",
    "\n",
    "# test\n",
    "x = [1,4,2,5,3]\n",
    "y = [1,4,2,5,3]\n",
    "print(is_equal(x, y))"
   ]
  },
  {
   "cell_type": "markdown",
   "metadata": {},
   "source": [
    "### Exercise: Digit List\n",
    "Write a function that takes an integer and returns a list or its digits. For example,\n",
    "`to_digits(50394829384)` should return `[5,0,3,9,4,8,2,9,3,8,4]`. Do not use string conversion."
   ]
  },
  {
   "cell_type": "code",
   "execution_count": 15,
   "metadata": {
    "execution": {
     "iopub.execute_input": "2020-11-20T16:51:10.530436Z",
     "iopub.status.busy": "2020-11-20T16:51:10.529619Z",
     "iopub.status.idle": "2020-11-20T16:51:10.532574Z",
     "shell.execute_reply": "2020-11-20T16:51:10.533159Z"
    }
   },
   "outputs": [
    {
     "name": "stdout",
     "output_type": "stream",
     "text": [
      "None\n"
     ]
    }
   ],
   "source": [
    "def to_digits(number):\n",
    "    # add your code here\n",
    "    pass\n",
    "\n",
    "\n",
    "# test\n",
    "x = 50394829384\n",
    "x2 = to_digits(x)\n",
    "print(x2)"
   ]
  },
  {
   "cell_type": "markdown",
   "metadata": {},
   "source": [
    "### Exercise: Filter Primes\n",
    "Write a function that takes a list of numbers and returns a new list with the prime numbers in the original list. For example: \n",
    "```python\n",
    "x = [1,2,3,4,5,6,7,8,9,10]\n",
    "x2 = filter_primes(x)\n",
    "print(x2)\n",
    "```\n",
    "should output `[2,3,5,7]`. \n",
    "\n",
    "Recall, a prime number is a positive integer that is divisible by no other number but 1 and itself."
   ]
  },
  {
   "cell_type": "code",
   "execution_count": 16,
   "metadata": {
    "execution": {
     "iopub.execute_input": "2020-11-20T16:51:10.538475Z",
     "iopub.status.busy": "2020-11-20T16:51:10.537444Z",
     "iopub.status.idle": "2020-11-20T16:51:10.540735Z",
     "shell.execute_reply": "2020-11-20T16:51:10.541295Z"
    }
   },
   "outputs": [
    {
     "name": "stdout",
     "output_type": "stream",
     "text": [
      "None\n"
     ]
    }
   ],
   "source": [
    "def filter_primes(list_x):\n",
    "    # add your code here\n",
    "    pass\n",
    "\n",
    "\n",
    "# test\n",
    "x = [1,2,3,4,5,6,7,8,9,10]\n",
    "x2 = filter_primes(x)\n",
    "print(x2)"
   ]
  }
 ],
 "metadata": {
  "kernelspec": {
   "display_name": "Python 3.8.5 vscode virtualenv",
   "language": "python",
   "name": "python3"
  },
  "language_info": {
   "codemirror_mode": {
    "name": "ipython",
    "version": 3
   },
   "file_extension": ".py",
   "mimetype": "text/x-python",
   "name": "python",
   "nbconvert_exporter": "python",
   "pygments_lexer": "ipython3",
   "version": "3.8.5"
  }
 },
 "nbformat": 4,
 "nbformat_minor": 4
}
