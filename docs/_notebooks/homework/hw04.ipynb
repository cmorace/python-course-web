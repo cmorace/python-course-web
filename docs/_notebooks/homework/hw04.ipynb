{
 "cells": [
  {
   "cell_type": "markdown",
   "metadata": {},
   "source": [
    "# Homework 4"
   ]
  },
  {
   "cell_type": "markdown",
   "metadata": {},
   "source": [
    "\n",
    "This homework's topic is python lists. Lists in Python are data structures that store a collection of objects. These objects can be types like `bool`, `int`, `float`, `str`, or even classes like `Sprite` or `Label`.\n",
    "\n",
    "## List Construction\n",
    "\n",
    "There are two ways to construct an empty list"
   ]
  },
  {
   "cell_type": "code",
   "execution_count": 1,
   "metadata": {
    "execution": {
     "iopub.execute_input": "2020-11-07T15:19:07.183292Z",
     "iopub.status.busy": "2020-11-07T15:19:07.182402Z",
     "iopub.status.idle": "2020-11-07T15:19:07.185209Z",
     "shell.execute_reply": "2020-11-07T15:19:07.185791Z"
    }
   },
   "outputs": [],
   "source": [
    "list_a = []\n",
    "list_b = list()"
   ]
  },
  {
   "cell_type": "markdown",
   "metadata": {},
   "source": [
    "We can create a non-empyt list like this."
   ]
  },
  {
   "cell_type": "code",
   "execution_count": 2,
   "metadata": {
    "execution": {
     "iopub.execute_input": "2020-11-07T15:19:07.191675Z",
     "iopub.status.busy": "2020-11-07T15:19:07.190671Z",
     "iopub.status.idle": "2020-11-07T15:19:07.192712Z",
     "shell.execute_reply": "2020-11-07T15:19:07.193271Z"
    }
   },
   "outputs": [],
   "source": [
    "list_c = [1,1,2,3,5,8,13,21]"
   ]
  },
  {
   "cell_type": "markdown",
   "metadata": {},
   "source": [
    "**Note:** do not name a variable `list = []`. `list` is a python keyword and should never be used as a variable name."
   ]
  },
  {
   "cell_type": "markdown",
   "metadata": {},
   "source": [
    "### Exercise: Invalid Syntax"
   ]
  },
  {
   "cell_type": "markdown",
   "metadata": {},
   "source": [
    "Fix the following syntax errors so that the variable `list_d` is set to an empy list and the variable `list_e` is set to a non-empty list."
   ]
  },
  {
   "cell_type": "code",
   "execution_count": 3,
   "metadata": {
    "execution": {
     "iopub.execute_input": "2020-11-07T15:19:07.197485Z",
     "iopub.status.busy": "2020-11-07T15:19:07.196661Z",
     "iopub.status.idle": "2020-11-07T15:19:07.199336Z",
     "shell.execute_reply": "2020-11-07T15:19:07.199947Z"
    }
   },
   "outputs": [],
   "source": [
    "# list_d[]\n",
    "# list_e[1,2,3,4,5]"
   ]
  },
  {
   "cell_type": "markdown",
   "metadata": {},
   "source": [
    "---\n",
    "\n",
    "## The `append()` Method\n",
    "The `append()` method adds elements to the end of a list. For example,"
   ]
  },
  {
   "cell_type": "code",
   "execution_count": 4,
   "metadata": {
    "execution": {
     "iopub.execute_input": "2020-11-07T15:19:07.207057Z",
     "iopub.status.busy": "2020-11-07T15:19:07.205027Z",
     "iopub.status.idle": "2020-11-07T15:19:07.212352Z",
     "shell.execute_reply": "2020-11-07T15:19:07.213445Z"
    }
   },
   "outputs": [
    {
     "name": "stdout",
     "output_type": "stream",
     "text": [
      "[-2, 105]\n"
     ]
    }
   ],
   "source": [
    "list_f = [-2]\n",
    "list_f.append(105)\n",
    "print(list_f)"
   ]
  },
  {
   "cell_type": "markdown",
   "metadata": {},
   "source": [
    "### Exercise: Append Fibonacci\n",
    "Use the `append()` function to add the next Fibonacci number, i.e. 3, to `list_g`."
   ]
  },
  {
   "cell_type": "code",
   "execution_count": 5,
   "metadata": {
    "execution": {
     "iopub.execute_input": "2020-11-07T15:19:07.221509Z",
     "iopub.status.busy": "2020-11-07T15:19:07.220048Z",
     "iopub.status.idle": "2020-11-07T15:19:07.224826Z",
     "shell.execute_reply": "2020-11-07T15:19:07.226019Z"
    }
   },
   "outputs": [
    {
     "name": "stdout",
     "output_type": "stream",
     "text": [
      "[1, 1, 2]\n"
     ]
    }
   ],
   "source": [
    "list_g = [1,1,2]\n",
    "# append here\n",
    "print(list_g)"
   ]
  },
  {
   "cell_type": "markdown",
   "metadata": {},
   "source": [
    "---\n",
    "\n",
    "## Accessing List Elements\n",
    "Lists elements can be accessed using an interger index. The first element is accessed with the index 0."
   ]
  },
  {
   "cell_type": "code",
   "execution_count": 6,
   "metadata": {
    "execution": {
     "iopub.execute_input": "2020-11-07T15:19:07.231718Z",
     "iopub.status.busy": "2020-11-07T15:19:07.230700Z",
     "iopub.status.idle": "2020-11-07T15:19:07.233727Z",
     "shell.execute_reply": "2020-11-07T15:19:07.234526Z"
    }
   },
   "outputs": [
    {
     "name": "stdout",
     "output_type": "stream",
     "text": [
      "7\n"
     ]
    }
   ],
   "source": [
    "list_h = [1,2,94,7,16,1]\n",
    "a = list_h[3]\n",
    "print(a)"
   ]
  },
  {
   "cell_type": "markdown",
   "metadata": {},
   "source": [
    "### Exercise: Index Out Of Range\n",
    "Fix the error to print out the last element of `list_i`, i.e. 'd'."
   ]
  },
  {
   "cell_type": "code",
   "execution_count": 7,
   "metadata": {
    "execution": {
     "iopub.execute_input": "2020-11-07T15:19:07.239846Z",
     "iopub.status.busy": "2020-11-07T15:19:07.238852Z",
     "iopub.status.idle": "2020-11-07T15:19:07.241166Z",
     "shell.execute_reply": "2020-11-07T15:19:07.242117Z"
    }
   },
   "outputs": [],
   "source": [
    "list_i = ['a','z','c','d']\n",
    "#print(list_i[4]) # <- fix this"
   ]
  },
  {
   "cell_type": "markdown",
   "metadata": {},
   "source": [
    "---\n",
    "\n",
    "## The `len()` Function\n",
    "The `len()` function returns the number of elements in a list."
   ]
  },
  {
   "cell_type": "code",
   "execution_count": 8,
   "metadata": {
    "execution": {
     "iopub.execute_input": "2020-11-07T15:19:07.247245Z",
     "iopub.status.busy": "2020-11-07T15:19:07.246316Z",
     "iopub.status.idle": "2020-11-07T15:19:07.249398Z",
     "shell.execute_reply": "2020-11-07T15:19:07.249954Z"
    }
   },
   "outputs": [
    {
     "name": "stdout",
     "output_type": "stream",
     "text": [
      "2\n"
     ]
    }
   ],
   "source": [
    "list_j = [True, False]\n",
    "list_j_size = len([True, False])\n",
    "print(list_j_size)"
   ]
  },
  {
   "cell_type": "markdown",
   "metadata": {},
   "source": [
    "### Exercise: Guess How Many\n",
    "Read the code below and guess how many elements are in `list_h`. Print the number of elements in `list_h` using the `len()` function and see if you are correct."
   ]
  },
  {
   "cell_type": "code",
   "execution_count": 9,
   "metadata": {
    "execution": {
     "iopub.execute_input": "2020-11-07T15:19:07.254976Z",
     "iopub.status.busy": "2020-11-07T15:19:07.254140Z",
     "iopub.status.idle": "2020-11-07T15:19:07.256412Z",
     "shell.execute_reply": "2020-11-07T15:19:07.256975Z"
    }
   },
   "outputs": [],
   "source": [
    "list_k = []\n",
    "for k in range(1, 62, 5):\n",
    "    list_k.append(k)\n",
    "# add code here to print the length of list_k\n"
   ]
  },
  {
   "cell_type": "markdown",
   "metadata": {},
   "source": [
    "---\n",
    "\n",
    "## The `clear()` Method\n",
    "The `clear()` function erases all elements in a list."
   ]
  },
  {
   "cell_type": "code",
   "execution_count": 10,
   "metadata": {
    "execution": {
     "iopub.execute_input": "2020-11-07T15:19:07.262233Z",
     "iopub.status.busy": "2020-11-07T15:19:07.261021Z",
     "iopub.status.idle": "2020-11-07T15:19:07.264574Z",
     "shell.execute_reply": "2020-11-07T15:19:07.265134Z"
    }
   },
   "outputs": [
    {
     "name": "stdout",
     "output_type": "stream",
     "text": [
      "[]\n"
     ]
    }
   ],
   "source": [
    "list_l = [\"1\",\"!\",\"2\",\"@\",\"3\",\"#\"]\n",
    "list_l.clear()\n",
    "print(list_l)"
   ]
  },
  {
   "cell_type": "markdown",
   "metadata": {},
   "source": [
    "### Exercise: Print My List\n",
    "Use the `clear()` and `append()` functions so that `print(list_m)` prints out `[42]`"
   ]
  },
  {
   "cell_type": "code",
   "execution_count": 11,
   "metadata": {
    "execution": {
     "iopub.execute_input": "2020-11-07T15:19:07.269989Z",
     "iopub.status.busy": "2020-11-07T15:19:07.268899Z",
     "iopub.status.idle": "2020-11-07T15:19:07.271901Z",
     "shell.execute_reply": "2020-11-07T15:19:07.272461Z"
    }
   },
   "outputs": [
    {
     "name": "stdout",
     "output_type": "stream",
     "text": [
      "[1, 16, 31, 46, 61, 76, 91]\n"
     ]
    }
   ],
   "source": [
    "list_m = list(range(1,100,15))\n",
    "# add your code here\n",
    "print(list_m)"
   ]
  },
  {
   "cell_type": "markdown",
   "metadata": {},
   "source": [
    "---\n",
    "\n",
    "## More Exercises"
   ]
  },
  {
   "cell_type": "markdown",
   "metadata": {},
   "source": [
    "### Exercise: Map $x^2$\n",
    "Write a function that takes a list of numbers and returns a new list with the square of each number in the original list. For example: \n",
    "```python\n",
    "x = [1,4,2,5,3]\n",
    "x2 = map_squares(x)\n",
    "print(x2)\n",
    "```\n",
    "should print `[1,16,4,25,9]`"
   ]
  },
  {
   "cell_type": "code",
   "execution_count": 12,
   "metadata": {
    "execution": {
     "iopub.execute_input": "2020-11-07T15:19:07.277742Z",
     "iopub.status.busy": "2020-11-07T15:19:07.276972Z",
     "iopub.status.idle": "2020-11-07T15:19:07.279644Z",
     "shell.execute_reply": "2020-11-07T15:19:07.280194Z"
    }
   },
   "outputs": [
    {
     "name": "stdout",
     "output_type": "stream",
     "text": [
      "None\n"
     ]
    }
   ],
   "source": [
    "def map_squares(list_x):\n",
    "    # add your code here\n",
    "    pass\n",
    "\n",
    "\n",
    "# test\n",
    "x = [1,4,2,5,3]\n",
    "x2 = map_squares(x)\n",
    "print(x2)"
   ]
  },
  {
   "cell_type": "markdown",
   "metadata": {},
   "source": [
    "### Exercise: Fibonacci List\n",
    "Use a `for` loop and the `append` function to create a list with the first 100 Fibonacci numbers, i.e. `[1,1,2,3,5,8,13,21,34,55,...]`."
   ]
  },
  {
   "cell_type": "code",
   "execution_count": 13,
   "metadata": {
    "execution": {
     "iopub.execute_input": "2020-11-07T15:19:07.285279Z",
     "iopub.status.busy": "2020-11-07T15:19:07.284361Z",
     "iopub.status.idle": "2020-11-07T15:19:07.287429Z",
     "shell.execute_reply": "2020-11-07T15:19:07.288045Z"
    }
   },
   "outputs": [
    {
     "name": "stdout",
     "output_type": "stream",
     "text": [
      "[1, 1]\n"
     ]
    }
   ],
   "source": [
    "fibonacci_list = [1,1]\n",
    "for i in range(2,100):\n",
    "    # add code here\n",
    "    pass\n",
    "    \n",
    "print(fibonacci_list)"
   ]
  },
  {
   "cell_type": "markdown",
   "metadata": {},
   "source": [
    "### Exercise: List Equivalence\n",
    "Write a function to test if two lists have the same elements in the same order. The function should return `True` if the two lists are equivalent and `False` otherwise."
   ]
  },
  {
   "cell_type": "code",
   "execution_count": 14,
   "metadata": {
    "execution": {
     "iopub.execute_input": "2020-11-07T15:19:07.293699Z",
     "iopub.status.busy": "2020-11-07T15:19:07.292768Z",
     "iopub.status.idle": "2020-11-07T15:19:07.295762Z",
     "shell.execute_reply": "2020-11-07T15:19:07.296316Z"
    }
   },
   "outputs": [
    {
     "name": "stdout",
     "output_type": "stream",
     "text": [
      "None\n"
     ]
    }
   ],
   "source": [
    "def is_equal(list_a, list_b):\n",
    "    # add your code here\n",
    "    pass\n",
    "\n",
    "\n",
    "# test\n",
    "x = [1,4,2,5,3]\n",
    "y = [1,4,2,5,3]\n",
    "print(is_equal(x, y))"
   ]
  },
  {
   "cell_type": "markdown",
   "metadata": {},
   "source": [
    "### Exercise: Digit List\n",
    "Write a function that takes an integer and returns a list or its digits. For example,\n",
    "`to_digits(50394829384)` should return `[5,0,3,9,4,8,2,9,3,8,4]`. Do not use string conversion."
   ]
  },
  {
   "cell_type": "code",
   "execution_count": 15,
   "metadata": {
    "execution": {
     "iopub.execute_input": "2020-11-07T15:19:07.301225Z",
     "iopub.status.busy": "2020-11-07T15:19:07.300308Z",
     "iopub.status.idle": "2020-11-07T15:19:07.303473Z",
     "shell.execute_reply": "2020-11-07T15:19:07.304059Z"
    }
   },
   "outputs": [
    {
     "name": "stdout",
     "output_type": "stream",
     "text": [
      "None\n"
     ]
    }
   ],
   "source": [
    "def to_digits(number):\n",
    "    # add your code here\n",
    "    pass\n",
    "\n",
    "\n",
    "# test\n",
    "x = 50394829384\n",
    "x2 = to_digits(x)\n",
    "print(x2)"
   ]
  },
  {
   "cell_type": "markdown",
   "metadata": {},
   "source": [
    "### Exercise: Filter Primes\n",
    "Write a function that takes a list of numbers and returns a new list with the prime numbers in the original list. For example: \n",
    "```python\n",
    "x = [1,2,3,4,5,6,7,8,9,10]\n",
    "x2 = filter_primes(x)\n",
    "print(x2)\n",
    "```\n",
    "should output `[2,3,5,7]`. \n",
    "\n",
    "Recall, a prime number is a positive integer that is divisible by no other number but 1 and itself."
   ]
  },
  {
   "cell_type": "code",
   "execution_count": 16,
   "metadata": {
    "execution": {
     "iopub.execute_input": "2020-11-07T15:19:07.309759Z",
     "iopub.status.busy": "2020-11-07T15:19:07.308723Z",
     "iopub.status.idle": "2020-11-07T15:19:07.311811Z",
     "shell.execute_reply": "2020-11-07T15:19:07.312445Z"
    }
   },
   "outputs": [
    {
     "name": "stdout",
     "output_type": "stream",
     "text": [
      "None\n"
     ]
    }
   ],
   "source": [
    "def filter_primes(list_x):\n",
    "    # add your code here\n",
    "    pass\n",
    "\n",
    "\n",
    "# test\n",
    "x = [1,2,3,4,5,6,7,8,9,10]\n",
    "x2 = filter_primes(x)\n",
    "print(x2)"
   ]
  }
 ],
 "metadata": {
  "kernelspec": {
   "display_name": "Python 3.8.5 vscode virtualenv",
   "language": "python",
   "name": "python3"
  },
  "language_info": {
   "codemirror_mode": {
    "name": "ipython",
    "version": 3
   },
   "file_extension": ".py",
   "mimetype": "text/x-python",
   "name": "python",
   "nbconvert_exporter": "python",
   "pygments_lexer": "ipython3",
   "version": "3.8.5"
  }
 },
 "nbformat": 4,
 "nbformat_minor": 4
}
