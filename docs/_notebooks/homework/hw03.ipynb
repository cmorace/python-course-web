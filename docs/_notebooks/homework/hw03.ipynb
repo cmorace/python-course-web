{
 "cells": [
  {
   "cell_type": "markdown",
   "metadata": {},
   "source": [
    "This homework will test your understanding of the following programming concepts:\n",
    "\n",
    "- variables\n",
    "- input/output\n",
    "- conditional statements\n",
    "- arithmetic and comparison operators\n",
    "\n",
    "Each problem is preceded by an example to demonstrate the concepts and Python syntax you will need to complete the exercise. Read the example code, click on the example's code cell, and press `ctrl + enter` to execute the code. Then read the exercise and complete the program.\n",
    "\n",
    "---"
   ]
  },
  {
   "cell_type": "markdown",
   "metadata": {},
   "source": [
    "##  1. Comparison\n",
    "\n",
    "### Example: The Smaller Number\n",
    "Get two integers from a user and print which number is smaller or if they are equal."
   ]
  },
  {
   "cell_type": "code",
   "execution_count": 2,
   "metadata": {},
   "outputs": [
    {
     "name": "stdout",
     "output_type": "stream",
     "text": [
      "enter an integer: 100\n",
      "enter an integer: 99\n"
     ]
    },
    {
     "name": "stdout",
     "output_type": "stream",
     "text": [
      "99 is less than 100\n"
     ]
    }
   ],
   "source": [
    "a = int(input(\"enter an integer:\"))\n",
    "b = int(input(\"enter an integer:\"))\n",
    "if a < b:\n",
    "    print(a, \"is less than\", b)\n",
    "elif b < a:\n",
    "    print(b, \"is less than\", a)\n",
    "else:\n",
    "    print(a, \"and\", b, \"are equal\")"
   ]
  },
  {
   "cell_type": "markdown",
   "metadata": {},
   "source": [
    "### Exercise: Who is Younger?\n",
    "Get the names and ages of two people, then print which person is younger or if they are the same age."
   ]
  },
  {
   "cell_type": "code",
   "execution_count": null,
   "metadata": {},
   "outputs": [],
   "source": [
    "name_a = input(\"first name:\")\n",
    "age_a = int(input(\"first age:\"))\n",
    "name_b = input(\"second name:\")\n",
    "age_b = int(input(\"second age:\"))\n",
    "# fill in the rest"
   ]
  },
  {
   "cell_type": "markdown",
   "metadata": {},
   "source": [
    "---"
   ]
  },
  {
   "cell_type": "markdown",
   "metadata": {},
   "source": [
    "## 2. Divisibility testing\n",
    "### Example: Divisible by $3$\n",
    "Use the `%` operator to check if an integer is divisible by $3$"
   ]
  },
  {
   "cell_type": "code",
   "execution_count": 3,
   "metadata": {},
   "outputs": [
    {
     "name": "stdout",
     "output_type": "stream",
     "text": [
      "enter an integer: 7\n"
     ]
    },
    {
     "name": "stdout",
     "output_type": "stream",
     "text": [
      "7 is not divisible by 3\n"
     ]
    }
   ],
   "source": [
    "x = int(input(\"enter an integer:\"))\n",
    "if x % 3 == 0:\n",
    "    print(x, \"is divisible by 3\")\n",
    "else:\n",
    "    print(x, \"is not divisible by 3\")"
   ]
  },
  {
   "cell_type": "markdown",
   "metadata": {},
   "source": [
    "### Exercise: Even or Odd?\n",
    "Use the `%` operator to check if an integer is even or odd."
   ]
  },
  {
   "cell_type": "code",
   "execution_count": null,
   "metadata": {},
   "outputs": [],
   "source": [
    "x = int(input(\"enter an integer\"))\n",
    "# fill in the rest"
   ]
  },
  {
   "cell_type": "markdown",
   "metadata": {},
   "source": [
    "---"
   ]
  },
  {
   "cell_type": "markdown",
   "metadata": {},
   "source": [
    "## 3. Calculator\n",
    "\n",
    "### Example: Sum and Difference\n",
    "\n",
    "Use the `input()` function to get two numbers and an arithmetic operation (either + or -) from the user, then print the result."
   ]
  },
  {
   "cell_type": "code",
   "execution_count": 4,
   "metadata": {},
   "outputs": [
    {
     "name": "stdout",
     "output_type": "stream",
     "text": [
      "enter a number: 30\n",
      "enter a operator: -\n",
      "enter a number: 7.5\n"
     ]
    },
    {
     "name": "stdout",
     "output_type": "stream",
     "text": [
      "30.0 - 7.5 = 22.5\n"
     ]
    }
   ],
   "source": [
    "a = float(input(\"enter a number:\"))\n",
    "operator = input(\"enter a operator:\")\n",
    "b = float(input(\"enter a number:\"))\n",
    "\n",
    "if operator == \"+\":\n",
    "    result = a + b\n",
    "elif operator == \"-\":\n",
    "    result = a - b\n",
    "else:\n",
    "    print(\"operator must be + or -\")\n",
    "\n",
    "print(a, operator, b, \"=\", result)"
   ]
  },
  {
   "cell_type": "markdown",
   "metadata": {},
   "source": [
    "### Exercise: All Arithmetic Operators\n",
    "Use a conditional statement to calculate results for all of the arithmetic operators"
   ]
  },
  {
   "cell_type": "code",
   "execution_count": null,
   "metadata": {
    "tags": []
   },
   "outputs": [],
   "source": [
    "a = float(input(\"enter a number:\"))\n",
    "operator = input(\"enter an operator:\")\n",
    "b = float(input(\"enter a number:\"))\n",
    "\n",
    "\n",
    "if operator == \"+\":\n",
    "    result = a + b\n",
    "elif operator == \"-\":\n",
    "    pass\n",
    "elif operator == \"*\":\n",
    "    pass\n",
    "elif operator == \"/\":\n",
    "    pass\n",
    "elif operator == \"%\":\n",
    "    pass\n",
    "elif operator == \"**\":\n",
    "    pass\n",
    "elif operator == \"//\":\n",
    "    pass\n",
    "else:\n",
    "    print(\"not a valid operator\")\n",
    "print(a, operator, b, \"=\", result)"
   ]
  },
  {
   "cell_type": "markdown",
   "metadata": {},
   "source": [
    "---"
   ]
  },
  {
   "cell_type": "markdown",
   "metadata": {},
   "source": [
    "## 4. Extension: Calculate While ..."
   ]
  },
  {
   "cell_type": "markdown",
   "metadata": {},
   "source": [
    "### Example: Repeat until I say 'q'\n",
    "The code below uses a `while` loop to continue to get input from the user. If the the user enters `q` then the loop will stop and the program will finish. The `break` keyword forces the loop to exit."
   ]
  },
  {
   "cell_type": "code",
   "execution_count": 5,
   "metadata": {},
   "outputs": [
    {
     "name": "stdout",
     "output_type": "stream",
     "text": [
      "Type q to quit:  a\n",
      "Type q to quit:  b\n",
      "Type q to quit:  s\n",
      "Type q to quit:  q\n"
     ]
    }
   ],
   "source": [
    "# this is code you can use to repeat getting input\n",
    "while True:\n",
    "\n",
    "    do_again = input(\"Type q to quit: \")\n",
    "    \n",
    "    if do_again == 'q':\n",
    "        break"
   ]
  },
  {
   "cell_type": "markdown",
   "metadata": {},
   "source": [
    "### Exercise: Keep on Calculating\n",
    "\n",
    "Use a while loop to continue to get input from the user for your calculator\n",
    "\n",
    "Your calculator code should:\n",
    "\n",
    "1. get input data\n",
    "2. compute the output\n",
    "3. print output\n",
    "4. check if the user wants to quit\n",
    "5. if not, repeat\n",
    "\n",
    "You can reuse your solution from the previous exercise for most of the code."
   ]
  },
  {
   "cell_type": "code",
   "execution_count": null,
   "metadata": {},
   "outputs": [],
   "source": [
    "# write you calculator with a while loop here"
   ]
  },
  {
   "cell_type": "markdown",
   "metadata": {},
   "source": [
    "---"
   ]
  }
 ],
 "metadata": {
  "kernelspec": {
   "display_name": "Python 3.8.5 vscode virtualenv",
   "language": "python",
   "name": "python3"
  },
  "language_info": {
   "codemirror_mode": {
    "name": "ipython",
    "version": 3
   },
   "file_extension": ".py",
   "mimetype": "text/x-python",
   "name": "python",
   "nbconvert_exporter": "python",
   "pygments_lexer": "ipython3",
   "version": "3.8.5"
  }
 },
 "nbformat": 4,
 "nbformat_minor": 4
}
