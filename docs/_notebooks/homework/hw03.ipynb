{
 "cells": [
  {
   "cell_type": "markdown",
   "metadata": {},
   "source": [
    "# Homework 3\n",
    "\n",
    "In this homework we will review some of the previous topics we have already covered, including:\n",
    "- Conditional Statements (Logic)\n",
    "- Functions\n",
    "- Classes\n",
    "\n",
    "---\n"
   ]
  },
  {
   "cell_type": "markdown",
   "metadata": {},
   "source": [
    "## Warmup"
   ]
  },
  {
   "cell_type": "markdown",
   "metadata": {},
   "source": [
    "### Example: Absolutely\n",
    "Write a function to return the absolute value of a number `x`"
   ]
  },
  {
   "cell_type": "code",
   "execution_count": 15,
   "metadata": {},
   "outputs": [
    {
     "name": "stdout",
     "output_type": "stream",
     "text": [
      "5\n",
      "5\n"
     ]
    }
   ],
   "source": [
    "def abs_val(x):\n",
    "    if x < 0:\n",
    "        return -x\n",
    "    else:\n",
    "        return x\n",
    "    \n",
    "print(abs_val(5))\n",
    "print(abs_val(-5))"
   ]
  },
  {
   "cell_type": "markdown",
   "metadata": {},
   "source": [
    "### Exercise: `min_val`\n",
    "Write a function named `min_val` that returns the minimum of two numbers `x` and `y`."
   ]
  },
  {
   "cell_type": "code",
   "execution_count": null,
   "metadata": {},
   "outputs": [],
   "source": []
  },
  {
   "cell_type": "markdown",
   "metadata": {},
   "source": [
    "---"
   ]
  },
  {
   "cell_type": "markdown",
   "metadata": {},
   "source": [
    "## 1. Meet the Expert\n",
    "\n",
    "### Example: A Doctor's Visit"
   ]
  },
  {
   "cell_type": "code",
   "execution_count": 2,
   "metadata": {},
   "outputs": [
    {
     "name": "stdout",
     "output_type": "stream",
     "text": [
      "Doctor: What hurts? my head\n",
      "Doctor: How many hours do you sleep per night? 9\n",
      "Doctor: How many glasses of water do you drink per day? 7\n",
      "Doctor: Drink at least 8 glasses of water.\n"
     ]
    }
   ],
   "source": [
    "pain_point = input(\"Doctor: What hurts? \")\n",
    "if pain_point == \"my head\":\n",
    "    hours_of_sleep = input(\"Doctor: How many hours do you sleep per night? \")\n",
    "    if int(hours_of_sleep) < 9:\n",
    "        print(\"Doctor: Get at least 9 hours of sleep.\")\n",
    "    else:\n",
    "        glasses_of_water = input(\"Doctor: How many glasses of water do you drink per day? \")\n",
    "        if int(glasses_of_water) <  8:\n",
    "            print(\"Doctor: Drink at least 8 glasses of water.\")\n",
    "        else:\n",
    "            print(\"Doctor: Sorry, I don't know what's wrong with you\") \n",
    "else:\n",
    "    print(\"Doctor: Sorry, I can't help you with that\")"
   ]
  },
  {
   "cell_type": "markdown",
   "metadata": {},
   "source": [
    "### Exercise: A Better Doctor\n",
    "Extend the code above to include at least 2 more pain points e.g. \"my foot\", \"my stomach\", \"my neck\", etc. Use conditional statements to determine the doctor's perscription."
   ]
  },
  {
   "cell_type": "code",
   "execution_count": null,
   "metadata": {},
   "outputs": [],
   "source": []
  },
  {
   "cell_type": "markdown",
   "metadata": {},
   "source": [
    "---"
   ]
  },
  {
   "cell_type": "markdown",
   "metadata": {},
   "source": [
    "## 2. Inside Out\n",
    "\n",
    "### Example: Inside\n",
    "The code below defines a function to test if a number `x` is between two numbers `x_min` and `x_max`. If x is inside the interval then it returns `True`, otherwise it returns `False`."
   ]
  },
  {
   "cell_type": "code",
   "execution_count": 19,
   "metadata": {},
   "outputs": [
    {
     "name": "stdout",
     "output_type": "stream",
     "text": [
      "True\n",
      "False\n"
     ]
    }
   ],
   "source": [
    "def is_inside(x_min, x_max, x):  \n",
    "    if x > x_min and x < x_max:\n",
    "        return True\n",
    "    else:\n",
    "        return False\n",
    "    \n",
    "print(is_inside(1, 2, 1.5))\n",
    "print(is_inside(2, 1, 1.5))"
   ]
  },
  {
   "cell_type": "markdown",
   "metadata": {},
   "source": [
    "We can see a possible bug if `x_max` is less than `x_min`. We can fix that by swapping the values."
   ]
  },
  {
   "cell_type": "code",
   "execution_count": 18,
   "metadata": {},
   "outputs": [
    {
     "name": "stdout",
     "output_type": "stream",
     "text": [
      "True\n",
      "True\n"
     ]
    }
   ],
   "source": [
    "def is_inside(x_min, x_max, x):\n",
    "    # first make sure x_min is less than x_max\n",
    "    if x_max < x_min:\n",
    "        temp = x_min\n",
    "        x_min = x_max\n",
    "        x_max = temp\n",
    "    if x > x_min and x < x_max:\n",
    "        return True\n",
    "    else:\n",
    "        return False\n",
    "    \n",
    "print(is_inside(1, 2, 1.5))\n",
    "print(is_inside(2, 1, 1.5))"
   ]
  },
  {
   "cell_type": "markdown",
   "metadata": {},
   "source": [
    "We can write the function more concisely like so."
   ]
  },
  {
   "cell_type": "code",
   "execution_count": 20,
   "metadata": {},
   "outputs": [
    {
     "name": "stdout",
     "output_type": "stream",
     "text": [
      "True\n",
      "True\n"
     ]
    }
   ],
   "source": [
    "def is_inside(x_min, x_max, x):\n",
    "    if x_max < x_min:\n",
    "        x_min, x_max = x_max, x_min\n",
    "    return x > x_min and x < x_max\n",
    "    \n",
    "print(is_inside(1, 2, 1.5))\n",
    "print(is_inside(2, 1, 1.5))"
   ]
  },
  {
   "cell_type": "markdown",
   "metadata": {},
   "source": [
    "### Exercise: Outside\n",
    "Define a function `is_outside(x_min, x_max, x)` that tests if a number `x` is outside the interval `[x_min, x_max]`. For example `is_outside(1, 2, 3)` should return `True` and `is_outside(1, 3, 2)` should return `False`."
   ]
  },
  {
   "cell_type": "code",
   "execution_count": null,
   "metadata": {},
   "outputs": [],
   "source": []
  },
  {
   "cell_type": "markdown",
   "metadata": {},
   "source": [
    "---"
   ]
  },
  {
   "cell_type": "markdown",
   "metadata": {},
   "source": [
    "## 3. Interval Class \n",
    "\n",
    "### Example: A Simple Interval Class\n",
    "Run the code for the Interval class below."
   ]
  },
  {
   "cell_type": "code",
   "execution_count": 32,
   "metadata": {},
   "outputs": [
    {
     "name": "stdout",
     "output_type": "stream",
     "text": [
      "interval(1,2) constructed.\n",
      "None\n"
     ]
    }
   ],
   "source": [
    "class Interval:\n",
    "    \n",
    "    # __init__ is a special method called a constructor\n",
    "    # it is similar to the on_create method in pycat's Sprite class\n",
    "    # it is called when we instantiate the Interval class\n",
    "    def __init__(self, x_min, x_max):\n",
    "                                                                                                                                                            if x_max < x_min:\n",
    "            x_min, x_max = x_max, x_min\n",
    "        self.x_min = x_min\n",
    "        self.x_max = x_max\n",
    "        print(\"interval({}, {}) constructed.\".format(x_min, x_max))\n",
    "    \n",
    "    def contains(self, x):\n",
    "        # implement this\n",
    "        # should return true if x is between self.x_min and self.x_max\n",
    "        pass\n",
    "\n",
    "\n",
    "interval = Interval(1,2) # instantiation, this calls the Interval's __init__ function\n",
    "print(interval.contains(1.5)) # should print True"
   ]
  },
  {
   "cell_type": "markdown",
   "metadata": {},
   "source": [
    "### Exercise: `interval.contains(x)`\n",
    "Implement the `contains` method and run the test cases to check its correctness. It should return `True` if a number `x` is between `self.x_min` and `self.x_max`."
   ]
  },
  {
   "cell_type": "code",
   "execution_count": 37,
   "metadata": {},
   "outputs": [
    {
     "name": "stdout",
     "output_type": "stream",
     "text": [
      "interval(1, 2) constructed.\n",
      "None\n",
      "interval(0, 2) constructed.\n",
      "None\n",
      "interval(5, 6) constructed.\n",
      "None\n",
      "interval(100, 200) constructed.\n",
      "None\n"
     ]
    }
   ],
   "source": [
    "class Interval:\n",
    "    \n",
    "    # __init__ is a special method called a constructor\n",
    "    # it is similar to the on_create method in pycat's Sprite class\n",
    "    # it is called when we instantiate the Interval class\n",
    "    def __init__(self, x_min, x_max):\n",
    "        if x_max < x_min:\n",
    "            x_min, x_max = x_max, x_min\n",
    "        self.x_min = x_min\n",
    "        self.x_max = x_max\n",
    "        print(\"interval({}, {}) constructed.\".format(x_min, x_max))\n",
    "    \n",
    "    # implement this\n",
    "    def contains(self, x):\n",
    "        # should return true if x is between self.x_min and self.x_max\n",
    "        pass\n",
    "\n",
    "\n",
    "interval = Interval(1, 2) # instantiation, this calls the Interval's __init__ function\n",
    "print(interval.contains(1.5)) # should print True\n",
    "\n",
    "interval = Interval(0, 2)\n",
    "print(interval.contains(-0.5)) # should print False\n",
    "\n",
    "interval = Interval(5, 6)\n",
    "print(interval.contains(5.5)) # should print True\n",
    "\n",
    "interval = Interval(100,200)\n",
    "print(interval.contains(200.0001)) # should print False"
   ]
  },
  {
   "cell_type": "markdown",
   "metadata": {},
   "source": [
    "---"
   ]
  }
 ],
 "metadata": {
  "kernelspec": {
   "display_name": "Python 3.8.5 vscode virtualenv",
   "language": "python",
   "name": "python3"
  },
  "language_info": {
   "codemirror_mode": {
    "name": "ipython",
    "version": 3
   },
   "file_extension": ".py",
   "mimetype": "text/x-python",
   "name": "python",
   "nbconvert_exporter": "python",
   "pygments_lexer": "ipython3",
   "version": "3.8.5"
  }
 },
 "nbformat": 4,
 "nbformat_minor": 4
}
