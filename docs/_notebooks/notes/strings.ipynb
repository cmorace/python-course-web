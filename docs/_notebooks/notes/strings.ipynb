{
 "cells": [
  {
   "cell_type": "markdown",
   "metadata": {},
   "source": [
    "# Strings"
   ]
  },
  {
   "cell_type": "markdown",
   "metadata": {},
   "source": [
    "## String Assignment  \n",
    "\n",
    "Strings can start and end with either single or double quotation marks. For example `\"hello\"` is the same as `'hello'`."
   ]
  },
  {
   "cell_type": "code",
   "execution_count": 13,
   "metadata": {},
   "outputs": [
    {
     "name": "stdout",
     "output_type": "stream",
     "text": [
      "abc123\n",
      "abc123\n"
     ]
    }
   ],
   "source": [
    "string_1 = \"abc123\"\n",
    "string_2 = 'abc123'\n",
    "print(string_1)\n",
    "print(string_2)"
   ]
  },
  {
   "cell_type": "markdown",
   "metadata": {},
   "source": [
    "## Multi-line Strings \n",
    "Multi-line strings can be assigned by wrapping the string with three quotation marks."
   ]
  },
  {
   "cell_type": "code",
   "execution_count": 17,
   "metadata": {
    "tags": []
   },
   "outputs": [
    {
     "name": "stdout",
     "output_type": "stream",
     "text": [
      "Multi-line strings are ok if your string \n",
      "starts and ends with three quotation marks.\n"
     ]
    }
   ],
   "source": [
    "multi_line_string = \"\"\"Multi-line strings are ok if your string \n",
    "starts and ends with three quotation marks.\"\"\"\n",
    "\n",
    "print(multi_line_string)"
   ]
  },
  {
   "cell_type": "markdown",
   "metadata": {},
   "source": [
    "Another way to assign multi-line strings to variables is to wrap the string in parenthesis like below and use the **escape character** `\\n` to create a new line."
   ]
  },
  {
   "cell_type": "code",
   "execution_count": 6,
   "metadata": {},
   "outputs": [
    {
     "name": "stdout",
     "output_type": "stream",
     "text": [
      "the first line is here\n",
      "a second line is here\n",
      "a third line is here\n"
     ]
    }
   ],
   "source": [
    "test = (\"the first line is here\\n\"\n",
    "        \"a second line is here\\n\"\n",
    "        \"a third line is here\")\n",
    "print(test)"
   ]
  },
  {
   "cell_type": "markdown",
   "metadata": {},
   "source": [
    "## Escape Characters"
   ]
  },
  {
   "cell_type": "code",
   "execution_count": null,
   "metadata": {},
   "outputs": [],
   "source": []
  }
 ],
 "metadata": {
  "kernelspec": {
   "display_name": "Python 3.8.5 vscode virtualenv",
   "language": "python",
   "name": "python3"
  },
  "language_info": {
   "codemirror_mode": {
    "name": "ipython",
    "version": 3
   },
   "file_extension": ".py",
   "mimetype": "text/x-python",
   "name": "python",
   "nbconvert_exporter": "python",
   "pygments_lexer": "ipython3",
   "version": "3.8.5"
  }
 },
 "nbformat": 4,
 "nbformat_minor": 4
}
