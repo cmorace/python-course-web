{
 "cells": [
  {
   "cell_type": "markdown",
   "metadata": {},
   "source": [
    "# Type Conversion"
   ]
  },
  {
   "cell_type": "markdown",
   "metadata": {},
   "source": [
    "We use type names to convert from one type to another. Below are some examples of type conversions and their resulting values."
   ]
  },
  {
   "cell_type": "code",
   "execution_count": 1,
   "metadata": {
    "tags": []
   },
   "outputs": [
    {
     "name": "stdout",
     "output_type": "stream",
     "text": [
      "boolean conversions\n",
      "-------------------------------------------------------------\n",
      "int(True)         -> 1            # bool to int\n",
      "float(False)      -> 0.0          # bool to float\n",
      "str(True)         -> 'True'       # bool to str\n",
      "\n",
      "integer conversions\n",
      "-------------------------------------------------------------\n",
      "bool(1)           -> True         # int to bool\n",
      "float(1234567)    -> 1234567.0    # int to float\n",
      "str(1234567)      -> '1234567'    # int to str\n",
      "\n",
      "float conversions\n",
      "-------------------------------------------------------------\n",
      "bool(1.0)         -> True         # float to bool\n",
      "int(3.99)         -> 3            # float to int\n",
      "int(-3.99)        -> -3           # negative float to int\n",
      "str(3.99)         -> '3.99'       # float to str\n",
      "\n",
      "string conversions\n",
      "-------------------------------------------------------------\n",
      "bool('False')     -> True         # str to bool\n",
      "int('1234567')    -> 1234567      # str to int\n",
      "float('1234567')  -> 1234567.0    # str to float\n",
      "\n",
      "ascii conversions\n",
      "-------------------------------------------------------------\n",
      "ord('A')          -> 65           # str to ascii\n",
      "chr(122)          -> 'z'          # ascii to str\n"
     ]
    }
   ],
   "source": [
    "print(\"boolean conversions\")\n",
    "print(\"-------------------------------------------------------------\")\n",
    "print(\"int(True)         -> \" + str(int(True))   + \"            # bool to int\")\n",
    "print(\"float(False)      -> \" + str(float(False))   + \"          # bool to float\")\n",
    "print(\"str(True)         -> '\" + str(True)   + \"'       # bool to str\")\n",
    "print(\"\\ninteger conversions\")\n",
    "print(\"-------------------------------------------------------------\")\n",
    "print(\"bool(1)           -> \" + str(bool(1)) + \"         # int to bool\")\n",
    "print(\"float(1234567)    -> \" + str(float(1234567)) + \"    # int to float\")\n",
    "print(\"str(1234567)      -> '\" + str(1234567)   + \"'    # int to str\")\n",
    "print(\"\\nfloat conversions\")\n",
    "print(\"-------------------------------------------------------------\")\n",
    "print(\"bool(1.0)         -> \" + str(bool(1.0)) + \"         # float to bool\")\n",
    "print(\"int(3.99)         -> \" + str(int(3.99)) + \"            # float to int\")\n",
    "print(\"int(-3.99)        -> \" + str(int(-3.99)) + \"           # negative float to int\")\n",
    "print(\"str(3.99)         -> '\" + str(3.99) + \"'       # float to str\")\n",
    "print(\"\\nstring conversions\")\n",
    "print(\"-------------------------------------------------------------\")\n",
    "print(\"bool('False')     -> \" + str(bool('False')) + \"         # str to bool\")\n",
    "print(\"int('1234567')    -> \" + str(int('1234567')) + \"      # str to int\")\n",
    "print(\"float('1234567')  -> \" + str(float('1234567')) + \"    # str to float\")\n",
    "print(\"\\nascii conversions\")\n",
    "print(\"-------------------------------------------------------------\")\n",
    "print(\"ord('A')          -> \" + str(ord('A')) + \"           # str to ascii\")\n",
    "print(\"chr(122)          -> '\" + str(chr(122)) + \"'          # ascii to str\")"
   ]
  },
  {
   "cell_type": "markdown",
   "metadata": {},
   "source": [
    "Not all values are compatible. To convert a string to a number type, the string must be all numbers."
   ]
  },
  {
   "cell_type": "code",
   "execution_count": 1,
   "metadata": {},
   "outputs": [],
   "source": [
    "ok_to_convert = \"987654321\"\n",
    "int(ok_to_convert)\n",
    "not_ok_to_convert = \"abcdefghijklmnopqrstuvwxyz\"\n",
    "# int(not_ok_to_convert) # Value Error"
   ]
  },
  {
   "cell_type": "markdown",
   "metadata": {},
   "source": [
    "Only the empty string converts to False"
   ]
  },
  {
   "cell_type": "code",
   "execution_count": 14,
   "metadata": {
    "tags": []
   },
   "outputs": [
    {
     "name": "stdout",
     "output_type": "stream",
     "text": [
      "True\n",
      "True\n",
      "False\n"
     ]
    }
   ],
   "source": [
    "print(bool('0'))\n",
    "print(bool('False'))\n",
    "print(bool(''))"
   ]
  },
  {
   "cell_type": "markdown",
   "metadata": {},
   "source": [
    "You can convert `'0'` to `False` with a **nested** operation"
   ]
  },
  {
   "cell_type": "code",
   "execution_count": 15,
   "metadata": {
    "tags": []
   },
   "outputs": [
    {
     "name": "stdout",
     "output_type": "stream",
     "text": [
      "True\n",
      "False\n"
     ]
    }
   ],
   "source": [
    "print(bool('0'))\n",
    "print(bool(int('0')))"
   ]
  }
 ],
 "metadata": {
  "kernelspec": {
   "display_name": "Python 3.8.5 vscode virtualenv",
   "language": "python",
   "name": "python3"
  },
  "language_info": {
   "codemirror_mode": {
    "name": "ipython",
    "version": 3
   },
   "file_extension": ".py",
   "mimetype": "text/x-python",
   "name": "python",
   "nbconvert_exporter": "python",
   "pygments_lexer": "ipython3",
   "version": "3.8.5"
  }
 },
 "nbformat": 4,
 "nbformat_minor": 4
}
