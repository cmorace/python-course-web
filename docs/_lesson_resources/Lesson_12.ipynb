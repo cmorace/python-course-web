{
 "cells": [
  {
   "cell_type": "markdown",
   "metadata": {},
   "source": [
    "# Lesson 12\n",
    "## Review\n",
    "Iterating through a list with range"
   ]
  },
  {
   "cell_type": "code",
   "execution_count": 1,
   "metadata": {
    "execution": {
     "iopub.execute_input": "2020-12-16T06:42:48.221682Z",
     "iopub.status.busy": "2020-12-16T06:42:48.218933Z",
     "iopub.status.idle": "2020-12-16T06:42:48.236580Z",
     "shell.execute_reply": "2020-12-16T06:42:48.237948Z"
    }
   },
   "outputs": [
    {
     "name": "stdout",
     "output_type": "stream",
     "text": [
      "a\n",
      "e\n",
      "i\n",
      "o\n",
      "u\n",
      "y\n"
     ]
    }
   ],
   "source": [
    "my_list = [\"a\",\"e\",\"i\",\"o\",\"u\",\"y\"]\n",
    "for i in range(len(my_list)):\n",
    "    print(my_list[i])"
   ]
  },
  {
   "cell_type": "code",
   "execution_count": 2,
   "metadata": {
    "execution": {
     "iopub.execute_input": "2020-12-16T06:42:48.267855Z",
     "iopub.status.busy": "2020-12-16T06:42:48.253564Z",
     "iopub.status.idle": "2020-12-16T06:42:48.289067Z",
     "shell.execute_reply": "2020-12-16T06:42:48.293467Z"
    }
   },
   "outputs": [
    {
     "name": "stdout",
     "output_type": "stream",
     "text": [
      "a\n",
      "e\n",
      "i\n",
      "o\n",
      "u\n",
      "y\n"
     ]
    }
   ],
   "source": [
    "my_list = [\"a\",\"e\",\"i\",\"o\",\"u\",\"y\"]\n",
    "for i in range(len(my_list)):\n",
    "    character = my_list[i]\n",
    "    print(character)"
   ]
  },
  {
   "cell_type": "markdown",
   "metadata": {},
   "source": [
    "## The ``for x in list:`` loop"
   ]
  },
  {
   "cell_type": "code",
   "execution_count": 3,
   "metadata": {
    "execution": {
     "iopub.execute_input": "2020-12-16T06:42:48.326120Z",
     "iopub.status.busy": "2020-12-16T06:42:48.317704Z",
     "iopub.status.idle": "2020-12-16T06:42:48.337430Z",
     "shell.execute_reply": "2020-12-16T06:42:48.338637Z"
    },
    "scrolled": true
   },
   "outputs": [
    {
     "name": "stdout",
     "output_type": "stream",
     "text": [
      "a\n",
      "e\n",
      "i\n",
      "o\n",
      "u\n",
      "y\n"
     ]
    }
   ],
   "source": [
    "for character in [\"a\",\"e\",\"i\",\"o\",\"u\",\"y\"]:\n",
    "    print(character)"
   ]
  },
  {
   "cell_type": "code",
   "execution_count": 4,
   "metadata": {
    "execution": {
     "iopub.execute_input": "2020-12-16T06:42:48.361538Z",
     "iopub.status.busy": "2020-12-16T06:42:48.352622Z",
     "iopub.status.idle": "2020-12-16T06:42:48.379058Z",
     "shell.execute_reply": "2020-12-16T06:42:48.384933Z"
    }
   },
   "outputs": [
    {
     "name": "stdout",
     "output_type": "stream",
     "text": [
      "a\n",
      "e\n",
      "i\n",
      "o\n",
      "u\n",
      "y\n"
     ]
    }
   ],
   "source": [
    "my_list = [\"a\",\"e\",\"i\",\"o\",\"u\",\"y\"]\n",
    "for character in my_list:\n",
    "    print(character)"
   ]
  },
  {
   "cell_type": "code",
   "execution_count": 5,
   "metadata": {
    "execution": {
     "iopub.execute_input": "2020-12-16T06:42:48.417897Z",
     "iopub.status.busy": "2020-12-16T06:42:48.410716Z",
     "iopub.status.idle": "2020-12-16T06:42:48.436483Z",
     "shell.execute_reply": "2020-12-16T06:42:48.445439Z"
    }
   },
   "outputs": [
    {
     "name": "stdout",
     "output_type": "stream",
     "text": [
      "Bob is 12 years old.\n",
      "Susan is 14 years old.\n",
      "George is 16 years old.\n",
      "Liz is 11 years old.\n",
      "Gary is 84 years old.\n"
     ]
    }
   ],
   "source": [
    "class Student:\n",
    "    def __init__(self, name, age):\n",
    "        self.name = name\n",
    "        self.age = age\n",
    "        \n",
    "student_list = [\n",
    "    Student(\"Bob\", 12), \n",
    "    Student(\"Susan\", 14),\n",
    "    Student(\"George\", 16),\n",
    "    Student(\"Liz\", 11),\n",
    "    Student(\"Gary\", 84)\n",
    "]\n",
    "\n",
    "for s in student_list:\n",
    "    print(s.name,\"is\",s.age,\"years old.\")"
   ]
  },
  {
   "cell_type": "markdown",
   "metadata": {},
   "source": [
    "The `for x in list:` loop is more concise and readable but cannot always replace the `for i in range(n):` loop. For example,"
   ]
  },
  {
   "cell_type": "code",
   "execution_count": 6,
   "metadata": {
    "execution": {
     "iopub.execute_input": "2020-12-16T06:42:48.494877Z",
     "iopub.status.busy": "2020-12-16T06:42:48.488190Z",
     "iopub.status.idle": "2020-12-16T06:42:48.520255Z",
     "shell.execute_reply": "2020-12-16T06:42:48.516889Z"
    }
   },
   "outputs": [
    {
     "name": "stdout",
     "output_type": "stream",
     "text": [
      "[5, 7, 9]"
     ]
    },
    {
     "name": "stdout",
     "output_type": "stream",
     "text": [
      "\n"
     ]
    }
   ],
   "source": [
    "x = [1,2,3]\n",
    "y = [4,5,6]\n",
    "z = []\n",
    "for i in range(len(x)):\n",
    "    z.append(x[i]+y[i])\n",
    "print(z)"
   ]
  },
  {
   "cell_type": "markdown",
   "metadata": {},
   "source": [
    "## Exercises\n",
    "Rewrite the following functions using a `for x in list` loop."
   ]
  },
  {
   "cell_type": "code",
   "execution_count": 7,
   "metadata": {
    "execution": {
     "iopub.execute_input": "2020-12-16T06:42:48.569801Z",
     "iopub.status.busy": "2020-12-16T06:42:48.555558Z",
     "iopub.status.idle": "2020-12-16T06:42:48.606737Z",
     "shell.execute_reply": "2020-12-16T06:42:48.611866Z"
    }
   },
   "outputs": [
    {
     "name": "stdout",
     "output_type": "stream",
     "text": [
      "45\n",
      "25\n"
     ]
    }
   ],
   "source": [
    "def my_sum(list_x):\n",
    "    my_sum = 0\n",
    "    for i in range(len(list_x)):\n",
    "        my_sum += list_x[i]\n",
    "    return my_sum\n",
    "\n",
    "test_list_1 = list(range(1,10))\n",
    "test_list_2 = list(range(1,10,2))\n",
    "print(my_sum(test_list_1))\n",
    "print(my_sum(test_list_2))"
   ]
  },
  {
   "cell_type": "code",
   "execution_count": null,
   "metadata": {},
   "outputs": [],
   "source": []
  },
  {
   "cell_type": "markdown",
   "metadata": {},
   "source": [
    "---"
   ]
  },
  {
   "cell_type": "code",
   "execution_count": 8,
   "metadata": {
    "execution": {
     "iopub.execute_input": "2020-12-16T06:42:48.678518Z",
     "iopub.status.busy": "2020-12-16T06:42:48.665564Z",
     "iopub.status.idle": "2020-12-16T06:42:48.701537Z",
     "shell.execute_reply": "2020-12-16T06:42:48.697927Z"
    }
   },
   "outputs": [
    {
     "name": "stdout",
     "output_type": "stream",
     "text": [
      "362880\n",
      "945\n"
     ]
    }
   ],
   "source": [
    "def my_product(list_x):\n",
    "    my_product = 1\n",
    "    for i in range(len(list_x)):\n",
    "        my_product *= list_x[i]\n",
    "    return my_product\n",
    "\n",
    "test_list_1 = list(range(1,10))\n",
    "test_list_2 = list(range(1,10,2))\n",
    "print(my_product(test_list_1))\n",
    "print(my_product(test_list_2))"
   ]
  },
  {
   "cell_type": "markdown",
   "metadata": {},
   "source": [
    "---"
   ]
  },
  {
   "cell_type": "code",
   "execution_count": 9,
   "metadata": {
    "execution": {
     "iopub.execute_input": "2020-12-16T06:42:48.756655Z",
     "iopub.status.busy": "2020-12-16T06:42:48.751684Z",
     "iopub.status.idle": "2020-12-16T06:42:48.779498Z",
     "shell.execute_reply": "2020-12-16T06:42:48.782406Z"
    }
   },
   "outputs": [
    {
     "name": "stdout",
     "output_type": "stream",
     "text": [
      "[1, 4, 9, 16, 25, 36, 49, 64, 81]\n",
      "[1, 9, 25, 49, 81]\n"
     ]
    }
   ],
   "source": [
    "def my_square(list_x):\n",
    "    x2 = []\n",
    "    for i in range(len(list_x)):\n",
    "        x2.append(list_x[i]**2)\n",
    "    return x2\n",
    "\n",
    "test_list_1 = list(range(1,10))\n",
    "test_list_2 = list(range(1,10,2))\n",
    "print(my_square(test_list_1))\n",
    "print(my_square(test_list_2))"
   ]
  },
  {
   "cell_type": "code",
   "execution_count": null,
   "metadata": {},
   "outputs": [],
   "source": []
  },
  {
   "cell_type": "markdown",
   "metadata": {},
   "source": [
    "---"
   ]
  },
  {
   "cell_type": "code",
   "execution_count": 10,
   "metadata": {
    "execution": {
     "iopub.execute_input": "2020-12-16T06:42:48.838922Z",
     "iopub.status.busy": "2020-12-16T06:42:48.817070Z",
     "iopub.status.idle": "2020-12-16T06:42:48.856199Z",
     "shell.execute_reply": "2020-12-16T06:42:48.859747Z"
    }
   },
   "outputs": [
    {
     "name": "stdout",
     "output_type": "stream",
     "text": [
      "False\n",
      "True\n"
     ]
    }
   ],
   "source": [
    "def is_in_list(test_list, x):\n",
    "    for i in range(len(test_list)):\n",
    "        if x == test_list[i]:\n",
    "            return True\n",
    "    return False\n",
    "\n",
    "test_list_1 = list(range(1,10))\n",
    "test_list_2 = list(range(1,10,2))\n",
    "print(is_in_list(test_list_1, 10))\n",
    "print(is_in_list(test_list_2, 3))"
   ]
  },
  {
   "cell_type": "code",
   "execution_count": null,
   "metadata": {},
   "outputs": [],
   "source": []
  },
  {
   "cell_type": "markdown",
   "metadata": {},
   "source": [
    "---"
   ]
  },
  {
   "cell_type": "code",
   "execution_count": 11,
   "metadata": {
    "execution": {
     "iopub.execute_input": "2020-12-16T06:42:48.885920Z",
     "iopub.status.busy": "2020-12-16T06:42:48.881002Z",
     "iopub.status.idle": "2020-12-16T06:42:48.917924Z",
     "shell.execute_reply": "2020-12-16T06:42:48.919638Z"
    }
   },
   "outputs": [
    {
     "name": "stdout",
     "output_type": "stream",
     "text": [
      "[9, 8, 7, 6, 5]\n",
      "[9, 9, 8, 8, 7]\n"
     ]
    }
   ],
   "source": [
    "def my_max_k(list_x, k):\n",
    "    if len(list_x) <= k:\n",
    "        return list_x\n",
    "    max_k = []\n",
    "    for i in range(k):\n",
    "        max_element = max(list_x)\n",
    "        max_k.append(max_element)\n",
    "        list_x.remove(max_element)\n",
    "    return max_k\n",
    "\n",
    "test_list_1 = list(range(10))\n",
    "test_list_2 = test_list_1*2\n",
    "print(my_max_k(test_list_1, 5))\n",
    "print(my_max_k(test_list_2, 5)) "
   ]
  },
  {
   "cell_type": "code",
   "execution_count": null,
   "metadata": {},
   "outputs": [],
   "source": []
  },
  {
   "cell_type": "markdown",
   "metadata": {},
   "source": [
    "---"
   ]
  }
 ],
 "metadata": {
  "kernelspec": {
   "display_name": "Python 3.8.5 vscode virtualenv",
   "language": "python",
   "name": "python3"
  },
  "language_info": {
   "codemirror_mode": {
    "name": "ipython",
    "version": 3
   },
   "file_extension": ".py",
   "mimetype": "text/x-python",
   "name": "python",
   "nbconvert_exporter": "python",
   "pygments_lexer": "ipython3",
   "version": "3.8.5"
  }
 },
 "nbformat": 4,
 "nbformat_minor": 4
}
