{
 "cells": [
  {
   "cell_type": "markdown",
   "metadata": {},
   "source": [
    "# Lesson 12\n",
    "## Review\n",
    "Iterating through a list with range"
   ]
  },
  {
   "cell_type": "code",
   "execution_count": 1,
   "metadata": {
    "execution": {
     "iopub.execute_input": "2020-12-04T16:36:14.132354Z",
     "iopub.status.busy": "2020-12-04T16:36:14.131249Z",
     "iopub.status.idle": "2020-12-04T16:36:14.135499Z",
     "shell.execute_reply": "2020-12-04T16:36:14.136078Z"
    }
   },
   "outputs": [
    {
     "name": "stdout",
     "output_type": "stream",
     "text": [
      "a\n",
      "e\n",
      "i\n",
      "o\n",
      "u\n",
      "y\n"
     ]
    }
   ],
   "source": [
    "my_list = [\"a\",\"e\",\"i\",\"o\",\"u\",\"y\"]\n",
    "for i in range(len(my_list)):\n",
    "    print(my_list[i])"
   ]
  },
  {
   "cell_type": "code",
   "execution_count": 2,
   "metadata": {
    "execution": {
     "iopub.execute_input": "2020-12-04T16:36:14.142121Z",
     "iopub.status.busy": "2020-12-04T16:36:14.141121Z",
     "iopub.status.idle": "2020-12-04T16:36:14.144309Z",
     "shell.execute_reply": "2020-12-04T16:36:14.144868Z"
    }
   },
   "outputs": [
    {
     "name": "stdout",
     "output_type": "stream",
     "text": [
      "a\n",
      "e\n",
      "i\n",
      "o\n",
      "u\n",
      "y\n"
     ]
    }
   ],
   "source": [
    "my_list = [\"a\",\"e\",\"i\",\"o\",\"u\",\"y\"]\n",
    "for i in range(len(my_list)):\n",
    "    character = my_list[i]\n",
    "    print(character)"
   ]
  },
  {
   "cell_type": "markdown",
   "metadata": {},
   "source": [
    "## The ``for x in list:`` loop"
   ]
  },
  {
   "cell_type": "code",
   "execution_count": 3,
   "metadata": {
    "execution": {
     "iopub.execute_input": "2020-12-04T16:36:14.149747Z",
     "iopub.status.busy": "2020-12-04T16:36:14.148897Z",
     "iopub.status.idle": "2020-12-04T16:36:14.151928Z",
     "shell.execute_reply": "2020-12-04T16:36:14.152490Z"
    },
    "scrolled": true
   },
   "outputs": [
    {
     "name": "stdout",
     "output_type": "stream",
     "text": [
      "a\n",
      "e\n",
      "i\n",
      "o\n",
      "u\n",
      "y\n"
     ]
    }
   ],
   "source": [
    "for character in [\"a\",\"e\",\"i\",\"o\",\"u\",\"y\"]:\n",
    "    print(character)"
   ]
  },
  {
   "cell_type": "code",
   "execution_count": 4,
   "metadata": {
    "execution": {
     "iopub.execute_input": "2020-12-04T16:36:14.157523Z",
     "iopub.status.busy": "2020-12-04T16:36:14.156615Z",
     "iopub.status.idle": "2020-12-04T16:36:14.159881Z",
     "shell.execute_reply": "2020-12-04T16:36:14.160438Z"
    }
   },
   "outputs": [
    {
     "name": "stdout",
     "output_type": "stream",
     "text": [
      "a\n",
      "e\n",
      "i\n",
      "o\n",
      "u\n",
      "y\n"
     ]
    }
   ],
   "source": [
    "my_list = [\"a\",\"e\",\"i\",\"o\",\"u\",\"y\"]\n",
    "for character in my_list:\n",
    "    print(character)"
   ]
  },
  {
   "cell_type": "code",
   "execution_count": 5,
   "metadata": {
    "execution": {
     "iopub.execute_input": "2020-12-04T16:36:14.166642Z",
     "iopub.status.busy": "2020-12-04T16:36:14.165762Z",
     "iopub.status.idle": "2020-12-04T16:36:14.168719Z",
     "shell.execute_reply": "2020-12-04T16:36:14.169490Z"
    }
   },
   "outputs": [
    {
     "name": "stdout",
     "output_type": "stream",
     "text": [
      "Bob is 12 years old.\n",
      "Susan is 14 years old.\n",
      "George is 16 years old.\n",
      "Liz is 11 years old.\n",
      "Gary is 84 years old.\n"
     ]
    }
   ],
   "source": [
    "class Student:\n",
    "    def __init__(self, name, age):\n",
    "        self.name = name\n",
    "        self.age = age\n",
    "        \n",
    "student_list = [\n",
    "    Student(\"Bob\", 12), \n",
    "    Student(\"Susan\", 14),\n",
    "    Student(\"George\", 16),\n",
    "    Student(\"Liz\", 11),\n",
    "    Student(\"Gary\", 84)\n",
    "]\n",
    "\n",
    "for s in student_list:\n",
    "    print(s.name,\"is\",s.age,\"years old.\")"
   ]
  },
  {
   "cell_type": "markdown",
   "metadata": {},
   "source": [
    "The `for x in list:` loop is more concise and readable but cannot always replace the `for i in range(n):` loop. For example,"
   ]
  },
  {
   "cell_type": "code",
   "execution_count": 6,
   "metadata": {
    "execution": {
     "iopub.execute_input": "2020-12-04T16:36:14.175061Z",
     "iopub.status.busy": "2020-12-04T16:36:14.174210Z",
     "iopub.status.idle": "2020-12-04T16:36:14.177298Z",
     "shell.execute_reply": "2020-12-04T16:36:14.177851Z"
    }
   },
   "outputs": [
    {
     "name": "stdout",
     "output_type": "stream",
     "text": [
      "[5, 7, 9]\n"
     ]
    }
   ],
   "source": [
    "x = [1,2,3]\n",
    "y = [4,5,6]\n",
    "z = []\n",
    "for i in range(len(x)):\n",
    "    z.append(x[i]+y[i])\n",
    "print(z)"
   ]
  },
  {
   "cell_type": "markdown",
   "metadata": {},
   "source": [
    "## Exercises\n",
    "Rewrite the following functions using a `for x in list` loop."
   ]
  },
  {
   "cell_type": "code",
   "execution_count": 7,
   "metadata": {
    "execution": {
     "iopub.execute_input": "2020-12-04T16:36:14.183907Z",
     "iopub.status.busy": "2020-12-04T16:36:14.182958Z",
     "iopub.status.idle": "2020-12-04T16:36:14.185999Z",
     "shell.execute_reply": "2020-12-04T16:36:14.186560Z"
    }
   },
   "outputs": [
    {
     "name": "stdout",
     "output_type": "stream",
     "text": [
      "45\n",
      "25\n"
     ]
    }
   ],
   "source": [
    "def my_sum(list_x):\n",
    "    my_sum = 0\n",
    "    for i in range(len(list_x)):\n",
    "        my_sum += list_x[i]\n",
    "    return my_sum\n",
    "\n",
    "test_list_1 = list(range(1,10))\n",
    "test_list_2 = list(range(1,10,2))\n",
    "print(my_sum(test_list_1))\n",
    "print(my_sum(test_list_2))"
   ]
  },
  {
   "cell_type": "code",
   "execution_count": null,
   "metadata": {},
   "outputs": [],
   "source": []
  },
  {
   "cell_type": "markdown",
   "metadata": {},
   "source": [
    "---"
   ]
  },
  {
   "cell_type": "code",
   "execution_count": 8,
   "metadata": {
    "execution": {
     "iopub.execute_input": "2020-12-04T16:36:14.192701Z",
     "iopub.status.busy": "2020-12-04T16:36:14.191813Z",
     "iopub.status.idle": "2020-12-04T16:36:14.194696Z",
     "shell.execute_reply": "2020-12-04T16:36:14.195256Z"
    }
   },
   "outputs": [
    {
     "name": "stdout",
     "output_type": "stream",
     "text": [
      "362880\n",
      "945\n"
     ]
    }
   ],
   "source": [
    "def my_product(list_x):\n",
    "    my_product = 1\n",
    "    for i in range(len(list_x)):\n",
    "        my_product *= list_x[i]\n",
    "    return my_product\n",
    "\n",
    "test_list_1 = list(range(1,10))\n",
    "test_list_2 = list(range(1,10,2))\n",
    "print(my_product(test_list_1))\n",
    "print(my_product(test_list_2))"
   ]
  },
  {
   "cell_type": "markdown",
   "metadata": {},
   "source": [
    "---"
   ]
  },
  {
   "cell_type": "code",
   "execution_count": 9,
   "metadata": {
    "execution": {
     "iopub.execute_input": "2020-12-04T16:36:14.201441Z",
     "iopub.status.busy": "2020-12-04T16:36:14.200563Z",
     "iopub.status.idle": "2020-12-04T16:36:14.203527Z",
     "shell.execute_reply": "2020-12-04T16:36:14.204085Z"
    }
   },
   "outputs": [
    {
     "name": "stdout",
     "output_type": "stream",
     "text": [
      "[1, 4, 9, 16, 25, 36, 49, 64, 81]\n",
      "[1, 9, 25, 49, 81]\n"
     ]
    }
   ],
   "source": [
    "def my_square(list_x):\n",
    "    x2 = []\n",
    "    for i in range(len(list_x)):\n",
    "        x2.append(list_x[i]**2)\n",
    "    return x2\n",
    "\n",
    "test_list_1 = list(range(1,10))\n",
    "test_list_2 = list(range(1,10,2))\n",
    "print(my_square(test_list_1))\n",
    "print(my_square(test_list_2))"
   ]
  },
  {
   "cell_type": "code",
   "execution_count": null,
   "metadata": {},
   "outputs": [],
   "source": []
  },
  {
   "cell_type": "markdown",
   "metadata": {},
   "source": [
    "---"
   ]
  },
  {
   "cell_type": "code",
   "execution_count": 10,
   "metadata": {
    "execution": {
     "iopub.execute_input": "2020-12-04T16:36:14.210420Z",
     "iopub.status.busy": "2020-12-04T16:36:14.209536Z",
     "iopub.status.idle": "2020-12-04T16:36:14.212495Z",
     "shell.execute_reply": "2020-12-04T16:36:14.213056Z"
    }
   },
   "outputs": [
    {
     "name": "stdout",
     "output_type": "stream",
     "text": [
      "False\n",
      "True\n"
     ]
    }
   ],
   "source": [
    "def is_in_list(test_list, x):\n",
    "    for i in range(len(test_list)):\n",
    "        if x == test_list[i]:\n",
    "            return True\n",
    "    return False\n",
    "\n",
    "test_list_1 = list(range(1,10))\n",
    "test_list_2 = list(range(1,10,2))\n",
    "print(is_in_list(test_list_1, 10))\n",
    "print(is_in_list(test_list_2, 3))"
   ]
  },
  {
   "cell_type": "code",
   "execution_count": null,
   "metadata": {},
   "outputs": [],
   "source": []
  },
  {
   "cell_type": "markdown",
   "metadata": {},
   "source": [
    "---"
   ]
  },
  {
   "cell_type": "code",
   "execution_count": 11,
   "metadata": {
    "execution": {
     "iopub.execute_input": "2020-12-04T16:36:14.219394Z",
     "iopub.status.busy": "2020-12-04T16:36:14.218489Z",
     "iopub.status.idle": "2020-12-04T16:36:14.221689Z",
     "shell.execute_reply": "2020-12-04T16:36:14.222297Z"
    }
   },
   "outputs": [
    {
     "name": "stdout",
     "output_type": "stream",
     "text": [
      "[9, 8, 7, 6, 5]\n",
      "[9, 9, 8, 8, 7]\n"
     ]
    }
   ],
   "source": [
    "def my_max_k(list_x, k):\n",
    "    if len(list_x) <= k:\n",
    "        return list_x\n",
    "    max_k = []\n",
    "    for i in range(k):\n",
    "        max_element = max(list_x)\n",
    "        max_k.append(max_element)\n",
    "        list_x.remove(max_element)\n",
    "    return max_k\n",
    "\n",
    "test_list_1 = list(range(10))\n",
    "test_list_2 = test_list_1*2\n",
    "print(my_max_k(test_list_1, 5))\n",
    "print(my_max_k(test_list_2, 5)) "
   ]
  },
  {
   "cell_type": "code",
   "execution_count": null,
   "metadata": {},
   "outputs": [],
   "source": []
  },
  {
   "cell_type": "markdown",
   "metadata": {},
   "source": [
    "---"
   ]
  }
 ],
 "metadata": {
  "kernelspec": {
   "display_name": "Python 3.8.5 vscode virtualenv",
   "language": "python",
   "name": "python3"
  },
  "language_info": {
   "codemirror_mode": {
    "name": "ipython",
    "version": 3
   },
   "file_extension": ".py",
   "mimetype": "text/x-python",
   "name": "python",
   "nbconvert_exporter": "python",
   "pygments_lexer": "ipython3",
   "version": "3.8.5"
  }
 },
 "nbformat": 4,
 "nbformat_minor": 4
}
