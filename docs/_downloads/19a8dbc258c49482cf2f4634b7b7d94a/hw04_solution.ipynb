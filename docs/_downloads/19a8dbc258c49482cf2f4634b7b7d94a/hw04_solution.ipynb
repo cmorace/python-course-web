{
 "cells": [
  {
   "cell_type": "markdown",
   "metadata": {},
   "source": [
    "# Homework 4 Solution"
   ]
  },
  {
   "cell_type": "markdown",
   "metadata": {},
   "source": [
    "\n",
    "This homework's topic is python lists. Lists in Python are data structures that store a collection of objects. These objects can be types like `bool`, `int`, `float`, `str`, or even classes like `Sprite` or `Label`.\n",
    "\n",
    "## List Construction\n",
    "\n",
    "There are two ways to construct an empty list"
   ]
  },
  {
   "cell_type": "code",
   "execution_count": 1,
   "metadata": {},
   "outputs": [],
   "source": [
    "list_a = []\n",
    "list_b = list()"
   ]
  },
  {
   "cell_type": "markdown",
   "metadata": {},
   "source": [
    "We can create a non-empyt list like this."
   ]
  },
  {
   "cell_type": "code",
   "execution_count": 2,
   "metadata": {},
   "outputs": [],
   "source": [
    "list_c = [1,1,2,3,5,8,13,21]"
   ]
  },
  {
   "cell_type": "markdown",
   "metadata": {},
   "source": [
    "**Note:** do not name a variable `list = []`. `list` is a python keyword and should never be used as a variable name."
   ]
  },
  {
   "cell_type": "markdown",
   "metadata": {},
   "source": [
    "### Exercise: Invalid Syntax"
   ]
  },
  {
   "cell_type": "markdown",
   "metadata": {},
   "source": [
    "Fix the following syntax errors so that the variable `list_d` is set to an empy list and the variable `list_e` is set to a non-empty list."
   ]
  },
  {
   "cell_type": "code",
   "execution_count": 3,
   "metadata": {},
   "outputs": [],
   "source": [
    "list_d = []\n",
    "list_e = [1,2,3,4,5]"
   ]
  },
  {
   "cell_type": "markdown",
   "metadata": {},
   "source": [
    "---\n",
    "\n",
    "## The `append()` Method\n",
    "The `append()` method adds elements to the end of a list. For example,"
   ]
  },
  {
   "cell_type": "code",
   "execution_count": 4,
   "metadata": {},
   "outputs": [
    {
     "name": "stdout",
     "output_type": "stream",
     "text": [
      "[-2, 105]\n"
     ]
    }
   ],
   "source": [
    "list_f = [-2]\n",
    "list_f.append(105)\n",
    "print(list_f)"
   ]
  },
  {
   "cell_type": "markdown",
   "metadata": {},
   "source": [
    "### Exercise: Append Fibonacci\n",
    "Use the `append()` function to add the next Fibonacci number, i.e. 3, to `list_g`."
   ]
  },
  {
   "cell_type": "code",
   "execution_count": 5,
   "metadata": {},
   "outputs": [
    {
     "name": "stdout",
     "output_type": "stream",
     "text": [
      "[1, 1, 2, 3]\n"
     ]
    }
   ],
   "source": [
    "list_g = [1,1,2]\n",
    "list_g.append(3)\n",
    "print(list_g)"
   ]
  },
  {
   "cell_type": "markdown",
   "metadata": {},
   "source": [
    "---\n",
    "\n",
    "## Accessing List Elements\n",
    "Lists elements can be accessed using an interger index. The first element is accessed with the index 0."
   ]
  },
  {
   "cell_type": "code",
   "execution_count": 6,
   "metadata": {},
   "outputs": [
    {
     "name": "stdout",
     "output_type": "stream",
     "text": [
      "7\n"
     ]
    }
   ],
   "source": [
    "list_h = [1,2,94,7,16,1]\n",
    "a = list_h[3]\n",
    "print(a)"
   ]
  },
  {
   "cell_type": "markdown",
   "metadata": {},
   "source": [
    "### Exercise: Index Out Of Range\n",
    "Fix the error to print out the last element of `list_i`, i.e. 'd'."
   ]
  },
  {
   "cell_type": "code",
   "execution_count": 7,
   "metadata": {},
   "outputs": [
    {
     "name": "stdout",
     "output_type": "stream",
     "text": [
      "d\n"
     ]
    }
   ],
   "source": [
    "list_i = ['a','z','c','d']\n",
    "print(list_i[3])"
   ]
  },
  {
   "cell_type": "markdown",
   "metadata": {},
   "source": [
    "---\n",
    "\n",
    "## The `len()` Function\n",
    "The `len()` function returns the number of elements in a list."
   ]
  },
  {
   "cell_type": "code",
   "execution_count": 8,
   "metadata": {},
   "outputs": [
    {
     "name": "stdout",
     "output_type": "stream",
     "text": [
      "2\n"
     ]
    }
   ],
   "source": [
    "list_j = [True, False]\n",
    "list_j_size = len([True, False])\n",
    "print(list_j_size)"
   ]
  },
  {
   "cell_type": "markdown",
   "metadata": {},
   "source": [
    "### Exercise: Guess How Many\n",
    "Read the code below and guess how many elements are in `list_h`. Print the number of elements in `list_h` using the `len()` function and see if you are correct."
   ]
  },
  {
   "cell_type": "code",
   "execution_count": 9,
   "metadata": {},
   "outputs": [
    {
     "name": "stdout",
     "output_type": "stream",
     "text": [
      "13\n"
     ]
    }
   ],
   "source": [
    "list_k = []\n",
    "for k in range(1, 62, 5):\n",
    "    list_k.append(k)\n",
    "print(len(list_k))\n"
   ]
  },
  {
   "cell_type": "markdown",
   "metadata": {},
   "source": [
    "---\n",
    "\n",
    "## The `clear()` Method\n",
    "The `clear()` function erases all elements in a list."
   ]
  },
  {
   "cell_type": "code",
   "execution_count": 10,
   "metadata": {},
   "outputs": [
    {
     "name": "stdout",
     "output_type": "stream",
     "text": [
      "[]\n"
     ]
    }
   ],
   "source": [
    "list_l = [\"1\",\"!\",\"2\",\"@\",\"3\",\"#\"]\n",
    "list_l.clear()\n",
    "print(list_l)"
   ]
  },
  {
   "cell_type": "markdown",
   "metadata": {},
   "source": [
    "### Exercise: Print My List\n",
    "Use the `clear()` and `append()` functions so that `print(list_m)` prints out `[42]`"
   ]
  },
  {
   "cell_type": "code",
   "execution_count": 11,
   "metadata": {},
   "outputs": [
    {
     "name": "stdout",
     "output_type": "stream",
     "text": [
      "[42]\n"
     ]
    }
   ],
   "source": [
    "list_m = list(range(1,100,15))\n",
    "list_m.clear()\n",
    "list_m.append(42)\n",
    "print(list_m)"
   ]
  },
  {
   "cell_type": "markdown",
   "metadata": {},
   "source": [
    "---\n",
    "\n",
    "## More Exercises"
   ]
  },
  {
   "cell_type": "markdown",
   "metadata": {},
   "source": [
    "### Exercise: Map $x^2$\n",
    "Write a function that takes a list of numbers and returns a new list with the square of each number in the original list. For example: \n",
    "```python\n",
    "x = [1,4,2,5,3]\n",
    "x2 = map_squares(x)\n",
    "print(x2)\n",
    "```\n",
    "should print `[1,16,4,25,9]`"
   ]
  },
  {
   "cell_type": "code",
   "execution_count": 12,
   "metadata": {},
   "outputs": [
    {
     "name": "stdout",
     "output_type": "stream",
     "text": [
      "[1, 16, 4, 25, 9]\n"
     ]
    }
   ],
   "source": [
    "def map_squares(list_x):\n",
    "    squares = []\n",
    "    for i in range(len(list_x)):\n",
    "        squares.append(list_x[i]**2)\n",
    "    return squares\n",
    "\n",
    "\n",
    "# test\n",
    "x = [1,4,2,5,3]\n",
    "x2 = map_squares(x)\n",
    "print(x2)"
   ]
  },
  {
   "cell_type": "markdown",
   "metadata": {},
   "source": [
    "### Exercise: Fibonacci List\n",
    "Use a `for` loop and the `append` function to create a list with the first 100 Fibonacci numbers, i.e. `[1,1,2,3,5,8,13,21,34,55,...]`."
   ]
  },
  {
   "cell_type": "code",
   "execution_count": 13,
   "metadata": {},
   "outputs": [
    {
     "name": "stdout",
     "output_type": "stream",
     "text": [
      "[1, 1, 2, 3, 5, 8, 13, 21, 34, 55, 89, 144, 233, 377, 610, 987, 1597, 2584, 4181, 6765, 10946, 17711, 28657, 46368, 75025, 121393, 196418, 317811, 514229, 832040, 1346269, 2178309, 3524578, 5702887, 9227465, 14930352, 24157817, 39088169, 63245986, 102334155, 165580141, 267914296, 433494437, 701408733, 1134903170, 1836311903, 2971215073, 4807526976, 7778742049, 12586269025, 20365011074, 32951280099, 53316291173, 86267571272, 139583862445, 225851433717, 365435296162, 591286729879, 956722026041, 1548008755920, 2504730781961, 4052739537881, 6557470319842, 10610209857723, 17167680177565, 27777890035288, 44945570212853, 72723460248141, 117669030460994, 190392490709135, 308061521170129, 498454011879264, 806515533049393, 1304969544928657, 2111485077978050, 3416454622906707, 5527939700884757, 8944394323791464, 14472334024676221, 23416728348467685, 37889062373143906, 61305790721611591, 99194853094755497, 160500643816367088, 259695496911122585, 420196140727489673, 679891637638612258, 1100087778366101931, 1779979416004714189, 2880067194370816120, 4660046610375530309, 7540113804746346429, 12200160415121876738, 19740274219868223167, 31940434634990099905, 51680708854858323072, 83621143489848422977, 135301852344706746049, 218922995834555169026, 354224848179261915075]\n"
     ]
    }
   ],
   "source": [
    "fib = [1,1]\n",
    "for i in range(2,100):\n",
    "    fib.append(fib[i-1]+fib[i-2])\n",
    "    \n",
    "print(fib)"
   ]
  },
  {
   "cell_type": "markdown",
   "metadata": {},
   "source": [
    "### Exercise: List Equivalence\n",
    "Write a function to test if two lists have the same elements in the same order. The function should return `True` if the two lists are equivalent and `False` otherwise."
   ]
  },
  {
   "cell_type": "code",
   "execution_count": 14,
   "metadata": {},
   "outputs": [
    {
     "name": "stdout",
     "output_type": "stream",
     "text": [
      "True\n"
     ]
    }
   ],
   "source": [
    "def is_equal(list_a, list_b):\n",
    "    if len(list_a) != len(list_b):\n",
    "        return False\n",
    "    for i in range(len(list_a)):\n",
    "        if list_a[i] != list_b[i]:\n",
    "            return False\n",
    "    return True\n",
    "\n",
    "\n",
    "# test\n",
    "x = [1,4,2,5,3]\n",
    "y = [1,4,2,5,3]\n",
    "print(is_equal(x, y))"
   ]
  },
  {
   "cell_type": "markdown",
   "metadata": {},
   "source": [
    "### Exercise: Digit List\n",
    "Write a function that takes an integer and returns a list or its digits. For example,\n",
    "`to_digits(50394829384)` should return `[5,0,3,9,4,8,2,9,3,8,4]`. Do not use string conversion."
   ]
  },
  {
   "cell_type": "code",
   "execution_count": 15,
   "metadata": {},
   "outputs": [
    {
     "name": "stdout",
     "output_type": "stream",
     "text": [
      "[5, 0, 3, 9, 4, 8, 2, 9, 3, 8, 4]\n"
     ]
    }
   ],
   "source": [
    "def to_digits(number):\n",
    "    digits = []\n",
    "    while number > 0:\n",
    "        digits.append(number%10)\n",
    "        number //= 10\n",
    "    digits.reverse()\n",
    "    return digits\n",
    "\n",
    "\n",
    "# test\n",
    "x = 50394829384\n",
    "x2 = to_digits(x)\n",
    "print(x2)"
   ]
  },
  {
   "cell_type": "markdown",
   "metadata": {},
   "source": [
    "### Exercise: Filter Primes\n",
    "Write a function that takes a list of numbers and returns a new list with the prime numbers in the original list. For example: \n",
    "```python\n",
    "x = [1,2,3,4,5,6,7,8,9,10]\n",
    "x2 = filter_primes(x)\n",
    "print(x2)\n",
    "```\n",
    "should output `[2,3,5,7]`. \n",
    "\n",
    "Recall, a prime number is a positive integer that is divisible by no other number but 1 and itself."
   ]
  },
  {
   "cell_type": "code",
   "execution_count": 16,
   "metadata": {},
   "outputs": [
    {
     "name": "stdout",
     "output_type": "stream",
     "text": [
      "[2, 3, 5, 7, 11, 13, 17, 19, 23, 29, 31, 37, 41, 43, 47, 53, 59, 61, 67, 71, 73, 79, 83, 89, 97]\n"
     ]
    }
   ],
   "source": [
    "def filter_primes(list_x):\n",
    "    primes = []\n",
    "    for i in range(len(list_x)):\n",
    "        if i < 2:\n",
    "            continue\n",
    "        is_prime = True\n",
    "        for j in range (2,list_x[i]):\n",
    "            if list_x[i]%j == 0:\n",
    "                is_prime = False\n",
    "                break\n",
    "        if is_prime:\n",
    "            primes.append(list_x[i])\n",
    "    return primes\n",
    "\n",
    "\n",
    "# test\n",
    "x = list(range(100))\n",
    "x2 = filter_primes(x)\n",
    "print(x2)"
   ]
  },
  {
   "cell_type": "code",
   "execution_count": null,
   "metadata": {},
   "outputs": [],
   "source": []
  }
 ],
 "metadata": {
  "kernelspec": {
   "display_name": "Python 3.8.5 vscode virtualenv",
   "language": "python",
   "name": "python3"
  },
  "language_info": {
   "codemirror_mode": {
    "name": "ipython",
    "version": 3
   },
   "file_extension": ".py",
   "mimetype": "text/x-python",
   "name": "python",
   "nbconvert_exporter": "python",
   "pygments_lexer": "ipython3",
   "version": "3.8.5"
  }
 },
 "nbformat": 4,
 "nbformat_minor": 4
}
