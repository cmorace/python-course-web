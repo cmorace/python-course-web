{
 "cells": [
  {
   "cell_type": "markdown",
   "metadata": {},
   "source": [
    "# Homework 2 Solutions"
   ]
  },
  {
   "cell_type": "markdown",
   "metadata": {},
   "source": [
    "---\n",
    "\n",
    "## 1. `print()`'s `end` Argument"
   ]
  },
  {
   "cell_type": "markdown",
   "metadata": {},
   "source": [
    "### Exercise: Print the Odd Numbers\n",
    "Print the odd numbers from $1$ to $n$ on the same line using a for loop.\n",
    "Can you do it without any `if` statements?"
   ]
  },
  {
   "cell_type": "code",
   "execution_count": 1,
   "metadata": {},
   "outputs": [
    {
     "name": "stdout",
     "output_type": "stream",
     "text": [
      "1,3,5,7,9,11,13,15,17,19,21,23,25,27,29,31,33,35,37,39,41,43,45,47,49,"
     ]
    }
   ],
   "source": [
    "n = 50\n",
    "for i in range(1,n,2):\n",
    "    print(i, end=\",\")"
   ]
  },
  {
   "cell_type": "markdown",
   "metadata": {},
   "source": [
    "---\n",
    "\n",
    "## 2. Printing Unicode Characters\n",
    "### Exercise: Printing Emojis\n",
    "The unicode characters for emoticons start with `1F600` and end with `1F64F`. Use a for loop to print out the all of the emoticons on a single line."
   ]
  },
  {
   "cell_type": "code",
   "execution_count": 2,
   "metadata": {},
   "outputs": [
    {
     "name": "stdout",
     "output_type": "stream",
     "text": [
      "😀😁😂😃😄😅😆😇😈😉😊😋😌😍😎😏😐😑😒😓😔😕😖😗😘😙😚😛😜😝😞😟😠😡😢😣😤😥😦😧😨😩😪😫😬😭😮😯😰😱😲😳😴😵😶😷😸😹😺😻😼😽😾😿🙀🙁🙂🙃🙄🙅🙆🙇🙈🙉🙊🙋🙌🙍🙎🙏"
     ]
    }
   ],
   "source": [
    "low = int(\"1F600\", 16)\n",
    "high = int(\"1F64F\", 16)\n",
    "for i in range(low, high+1):\n",
    "    print(chr(i), end=\"\")"
   ]
  },
  {
   "cell_type": "markdown",
   "metadata": {},
   "source": [
    "---\n",
    "\n",
    "## 3. Math Quiz with `randint()`\n",
    "\n",
    "Python has a built-in package named `random` which has many functions for generating random numbers. The function `randint(a, b)` will return a random integer between `a` and `b`."
   ]
  },
  {
   "cell_type": "markdown",
   "metadata": {},
   "source": [
    "### Exersise: Multiplication Quiz\n",
    "Modify the example above to ask multiplication questions rather than division."
   ]
  },
  {
   "cell_type": "code",
   "execution_count": 3,
   "metadata": {
    "scrolled": true
   },
   "outputs": [
    {
     "name": "stdout",
     "output_type": "stream",
     "text": [
      "What is 8*7?56\n",
      "very good\n",
      "press q to quit:q\n"
     ]
    }
   ],
   "source": [
    "from random import randint\n",
    "while True:\n",
    "    a = randint(2, 10)\n",
    "    b = randint(2, 10)\n",
    "    product = a * b\n",
    "    answer = input(\"What is \"+str(a)+\"*\"+str(b)+\"?\")\n",
    "    if int(answer) == product:\n",
    "        print(\"very good\")\n",
    "    else:\n",
    "        print(\"sorry, wrong answer\")\n",
    "        \n",
    "    continue_response = input(\"press q to quit:\")\n",
    "    if continue_response == \"q\":\n",
    "        break"
   ]
  },
  {
   "cell_type": "markdown",
   "metadata": {},
   "source": [
    "---\n",
    "\n",
    "## 4. Calculating the Sum of Natural Numbers\n",
    "A useful formula for the sum of natural numbers from $1$ to $n$ is:\n",
    "$$1+2+3+\\dots+n=\\frac{n(n+1)}{2}$$"
   ]
  },
  {
   "cell_type": "markdown",
   "metadata": {},
   "source": [
    "### Exercise: For Loop Implementation\n",
    "Calculate the same sum but with a for loop. Check that you get the same result. "
   ]
  },
  {
   "cell_type": "code",
   "execution_count": 4,
   "metadata": {},
   "outputs": [
    {
     "name": "stdout",
     "output_type": "stream",
     "text": [
      "5050\n"
     ]
    }
   ],
   "source": [
    "sum = 0\n",
    "for i in range(101):\n",
    "    sum += i\n",
    "print(sum)"
   ]
  },
  {
   "cell_type": "markdown",
   "metadata": {},
   "source": [
    "---\n",
    "\n",
    "## 4. Summing to $\\pi$"
   ]
  },
  {
   "cell_type": "markdown",
   "metadata": {},
   "source": [
    "### Solution: The Leibniz Formula\n",
    "\n",
    "The [Leibniz formula for $\\pi$](https://en.wikipedia.org/wiki/Leibniz_formula_for_%CF%80) was discovered by the Indian Mathematician Madhava of Sangamagrama in the 14th century. It states that:\n",
    "$$1 - \\frac{1}{3} + \\frac{1}{5} - \\frac{1}{7} + \\frac{1}{9} \\dots = \\frac{\\pi}{4}$$\n",
    "Use a for loop to calculate this sum and multiply the final sum by 4 to check how close the result is to $\\pi$. As you increase the number of iterations, you should get a better and better approximation."
   ]
  },
  {
   "cell_type": "code",
   "execution_count": 5,
   "metadata": {},
   "outputs": [
    {
     "name": "stdout",
     "output_type": "stream",
     "text": [
      "3.1415826535897198\n"
     ]
    }
   ],
   "source": [
    "sum = 0\n",
    "for i in range(1, 200000, 2):\n",
    "    if i % 4 == 1:\n",
    "        sum += 1/i\n",
    "    else:\n",
    "        sum -= 1/i\n",
    "\n",
    "print(sum * 4)"
   ]
  }
 ],
 "metadata": {
  "kernelspec": {
   "display_name": "Python 3.8.5 vscode virtualenv",
   "language": "python",
   "name": "python3"
  },
  "language_info": {
   "codemirror_mode": {
    "name": "ipython",
    "version": 3
   },
   "file_extension": ".py",
   "mimetype": "text/x-python",
   "name": "python",
   "nbconvert_exporter": "python",
   "pygments_lexer": "ipython3",
   "version": "3.8.5"
  }
 },
 "nbformat": 4,
 "nbformat_minor": 4
}
