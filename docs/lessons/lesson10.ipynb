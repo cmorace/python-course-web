{
 "cells": [
  {
   "cell_type": "markdown",
   "metadata": {},
   "source": [
    "# Lesson 10\n",
    "This lesson is all about functions. We will implement some of the functions which are built into python. First let's look at a simple example. "
   ]
  },
  {
   "cell_type": "code",
   "execution_count": 16,
   "metadata": {},
   "outputs": [],
   "source": [
    "def sum2(a: int, b: int) -> int:\n",
    "    c = a + b\n",
    "    return c"
   ]
  },
  {
   "cell_type": "markdown",
   "metadata": {},
   "source": [
    "- `sum2` is the **function name**\n",
    "\n",
    "- `a` and `b` are  **arguments**\n",
    "\n",
    "- `c` is our **return value**\n",
    "\n",
    "\n",
    "We **call** the function by writing its name followed by values for the function arguments wrapped in parenthesis. For example,\n",
    "`sum2(2, 4)`"
   ]
  },
  {
   "cell_type": "markdown",
   "metadata": {},
   "source": [
    "## Exercise 1. `sum3()`\n",
    "\n",
    "Write a `sum3` function that takes 3 integers as arguments and returns the sum of the three arguments. Test your `sum3` function by calling it with a different arguments."
   ]
  },
  {
   "cell_type": "code",
   "execution_count": 23,
   "metadata": {},
   "outputs": [
    {
     "data": {
      "text/plain": [
       "6"
      ]
     },
     "execution_count": 23,
     "metadata": {},
     "output_type": "execute_result"
    }
   ],
   "source": [
    "def sum3(a, b, c):\n",
    "    return a + b + c\n",
    "\n",
    "sum3(1, 2, 3)"
   ]
  },
  {
   "cell_type": "markdown",
   "metadata": {},
   "source": [
    "\n",
    "## Builtin Python Functions\n",
    "\n",
    "Some examples of functions which are part of the python language which we have seen:\n",
    "\n",
    "**global functions**:\n",
    "\n",
    "- `len`\n",
    "- `print`\n",
    "- `input`\n",
    "- `range`\n",
    "- `sum`\n",
    "- `max`\n",
    "- `min`\n",
    "- `int`\n",
    "- `str`\n",
    "- `float`\n",
    "- `list`\n",
    "- `abs`\n",
    "\n",
    "**methods** are also functions but they belong to a class/type. For example,\n",
    "\n",
    "- `append()` is a member function of the `list` type\n",
    "- `is_touching_sprite()` is a member function of the `Sprite` class\n",
    "- `is_key_down()` is a member function of the `Window` class\n"
   ]
  },
  {
   "cell_type": "markdown",
   "metadata": {},
   "source": [
    "## Exercise 2. `get_random_list()`\n",
    "\n",
    "Let's write a function to generate lists with random values. We would like to have arguments for the min and max values and the total number of elements in the list."
   ]
  },
  {
   "cell_type": "code",
   "execution_count": 7,
   "metadata": {},
   "outputs": [
    {
     "name": "stdout",
     "output_type": "stream",
     "text": [
      "[2, 2, 9, 10, 8]\n"
     ]
    }
   ],
   "source": [
    "from random import randint\n",
    "\n",
    "def get_random_list(a, b, n):\n",
    "    list_r = []\n",
    "    for i in range(n):\n",
    "        list_r.append(randint(a,b))\n",
    "    return list_r\n",
    "\n",
    "my_list = get_random_list(0, 10, 5)\n",
    "print(my_list)"
   ]
  },
  {
   "cell_type": "markdown",
   "metadata": {},
   "source": [
    "## Exercise 3. `sum_list()`\n",
    "\n",
    "Python's `sum` function takes a list of numerical values and returns the sum. Implement the `sum_list` to sum the elements of a list. Test that it returns the same value as Python's `sum` function for a few random lists."
   ]
  },
  {
   "cell_type": "code",
   "execution_count": 13,
   "metadata": {},
   "outputs": [
    {
     "name": "stdout",
     "output_type": "stream",
     "text": [
      "[-3, 2, 1, 5, -4, -5, 5, -3, 0, 4]\n",
      "sum_list -> 2\n",
      "sum -> 2\n"
     ]
    }
   ],
   "source": [
    "def sum_list(list_a):\n",
    "    s = 0\n",
    "    for i in range(len(list_a)):\n",
    "        s += list_a[i]\n",
    "    return s\n",
    "\n",
    "\n",
    "test_list = get_random_list(-5, 5, 10)\n",
    "print(test_list)\n",
    "print('sum_list ->', sum_list(test_list))\n",
    "print('sum ->', sum(test_list))"
   ]
  },
  {
   "cell_type": "markdown",
   "metadata": {},
   "source": [
    "## Exercise 4. `max_list()`\n",
    "\n",
    "Python's `max` function takes a list of numerical values and returns the max value in the list. Implement the `max_list` to return the maximum element of a list. Test that it returns the same value as Python's `max` function for a few random lists."
   ]
  },
  {
   "cell_type": "code",
   "execution_count": 15,
   "metadata": {},
   "outputs": [
    {
     "name": "stdout",
     "output_type": "stream",
     "text": [
      "[-1, 2, -3, -3, -5, -5, 4, 0, 5, -2]\n",
      "max_list -> 5\n",
      "max -> 5\n"
     ]
    }
   ],
   "source": [
    "def max_list(list_a):\n",
    "    if len(list_a) == 0:\n",
    "        return None\n",
    "    max_element = list_a[0]\n",
    "    for i in range(len(list_a)):\n",
    "        if list_a[i] > max_element:\n",
    "            max_element = list_a[i]\n",
    "    return max_element\n",
    "\n",
    "\n",
    "test_list = get_random_list(-5, 5, 10)\n",
    "print(test_list)\n",
    "print('max_list ->', max_list(test_list))\n",
    "print('max ->', max(test_list))"
   ]
  },
  {
   "cell_type": "markdown",
   "metadata": {},
   "source": [
    "## Exercise 5. `is_in_list()`\n",
    "\n",
    "Python has a keyword `in` which is used to test if a value is in a list. Implement the `is_in_list()` function and test that it returns the same value as using the `in` keyword for a few random lists."
   ]
  },
  {
   "cell_type": "code",
   "execution_count": 22,
   "metadata": {},
   "outputs": [
    {
     "name": "stdout",
     "output_type": "stream",
     "text": [
      "-4 [4, 3, -5, 0, 0, -1, 1, 3, 0, -4]\n",
      "is_in_list -> True\n",
      "in -> True\n"
     ]
    }
   ],
   "source": [
    "def is_in_list(a, list_a):\n",
    "    n = len(list_a)\n",
    "    for i in range(len(list_a)):\n",
    "        if a == list_a[i]:\n",
    "            # return will stop the function\n",
    "            return True \n",
    "    return False\n",
    "\n",
    "test_list = get_random_list(-5, 5, 10)\n",
    "x = randint(-5, 5)\n",
    "print(x, test_list)\n",
    "print('is_in_list ->', is_in_list(x, test_list))\n",
    "print('in ->', x in test_list)"
   ]
  }
 ],
 "metadata": {
  "interpreter": {
   "hash": "6858ccd1165bd480dec74a79c47d1e1e2d45ea757040d42299b4df6723f33340"
  },
  "kernelspec": {
   "display_name": "Python 3.8.5 64-bit ('vscode': venv)",
   "name": "python3"
  },
  "language_info": {
   "codemirror_mode": {
    "name": "ipython",
    "version": 3
   },
   "file_extension": ".py",
   "mimetype": "text/x-python",
   "name": "python",
   "nbconvert_exporter": "python",
   "pygments_lexer": "ipython3",
   "version": "3.8.5"
  }
 },
 "nbformat": 4,
 "nbformat_minor": 2
}
