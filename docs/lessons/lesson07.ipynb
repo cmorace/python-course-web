{
 "cells": [
  {
   "cell_type": "markdown",
   "metadata": {},
   "source": [
    "# Lesson 7"
   ]
  },
  {
   "cell_type": "markdown",
   "metadata": {},
   "source": [
    "So far we seen types of variables that store a single value"
   ]
  },
  {
   "cell_type": "code",
   "execution_count": 1,
   "metadata": {
    "execution": {
     "iopub.execute_input": "2022-02-15T17:30:36.840699Z",
     "iopub.status.busy": "2022-02-15T17:30:36.840412Z",
     "iopub.status.idle": "2022-02-15T17:30:36.846447Z",
     "shell.execute_reply": "2022-02-15T17:30:36.846213Z"
    }
   },
   "outputs": [],
   "source": [
    "x = 4\n",
    "y = 3.14\n",
    "z = False"
   ]
  },
  {
   "cell_type": "markdown",
   "metadata": {},
   "source": [
    "Strings are kind of an exception, they are a collection of characters."
   ]
  },
  {
   "cell_type": "code",
   "execution_count": 2,
   "metadata": {
    "execution": {
     "iopub.execute_input": "2022-02-15T17:30:36.848110Z",
     "iopub.status.busy": "2022-02-15T17:30:36.848046Z",
     "iopub.status.idle": "2022-02-15T17:30:36.852661Z",
     "shell.execute_reply": "2022-02-15T17:30:36.852416Z"
    }
   },
   "outputs": [
    {
     "name": "stdout",
     "output_type": "stream",
     "text": [
      "the first character is: s\n",
      "the length of characters in y is: s\n"
     ]
    },
    {
     "data": {
      "text/plain": [
       "7"
      ]
     },
     "execution_count": 2,
     "metadata": {},
     "output_type": "execute_result"
    }
   ],
   "source": [
    "y = 'strings'\n",
    "print('the first character is:', y[0])\n",
    "print('the length of characters in y is:', y[0])\n",
    "len(y)"
   ]
  },
  {
   "cell_type": "markdown",
   "metadata": {},
   "source": []
  },
  {
   "cell_type": "markdown",
   "metadata": {},
   "source": [
    "## List Initialization"
   ]
  },
  {
   "cell_type": "code",
   "execution_count": 3,
   "metadata": {
    "execution": {
     "iopub.execute_input": "2022-02-15T17:30:36.854450Z",
     "iopub.status.busy": "2022-02-15T17:30:36.854388Z",
     "iopub.status.idle": "2022-02-15T17:30:36.856005Z",
     "shell.execute_reply": "2022-02-15T17:30:36.855772Z"
    }
   },
   "outputs": [
    {
     "name": "stdout",
     "output_type": "stream",
     "text": [
      "[]\n"
     ]
    }
   ],
   "source": [
    "empty_list = []\n",
    "print(empty_list)"
   ]
  },
  {
   "cell_type": "code",
   "execution_count": 4,
   "metadata": {
    "execution": {
     "iopub.execute_input": "2022-02-15T17:30:36.857324Z",
     "iopub.status.busy": "2022-02-15T17:30:36.857265Z",
     "iopub.status.idle": "2022-02-15T17:30:36.858912Z",
     "shell.execute_reply": "2022-02-15T17:30:36.858710Z"
    }
   },
   "outputs": [
    {
     "name": "stdout",
     "output_type": "stream",
     "text": [
      "[4, 8, 7, -7, 6]\n",
      "4\n",
      "8\n"
     ]
    }
   ],
   "source": [
    "my_int_list = [4, 8, 7, -7, 6]\n",
    "print(my_int_list)\n",
    "print(my_int_list[0])\n",
    "print(my_int_list[1])"
   ]
  },
  {
   "cell_type": "code",
   "execution_count": 5,
   "metadata": {
    "execution": {
     "iopub.execute_input": "2022-02-15T17:30:36.860268Z",
     "iopub.status.busy": "2022-02-15T17:30:36.860208Z",
     "iopub.status.idle": "2022-02-15T17:30:36.861818Z",
     "shell.execute_reply": "2022-02-15T17:30:36.861634Z"
    }
   },
   "outputs": [
    {
     "name": "stdout",
     "output_type": "stream",
     "text": [
      "[True, False, True]\n",
      "True\n",
      "False\n"
     ]
    }
   ],
   "source": [
    "my_bool_list = [True, False, True]\n",
    "print(my_bool_list)\n",
    "print(my_bool_list[0])\n",
    "print(my_bool_list[1])"
   ]
  },
  {
   "cell_type": "markdown",
   "metadata": {},
   "source": [
    "## The `append()` method"
   ]
  },
  {
   "cell_type": "code",
   "execution_count": 6,
   "metadata": {
    "execution": {
     "iopub.execute_input": "2022-02-15T17:30:36.863134Z",
     "iopub.status.busy": "2022-02-15T17:30:36.863078Z",
     "iopub.status.idle": "2022-02-15T17:30:36.864814Z",
     "shell.execute_reply": "2022-02-15T17:30:36.864591Z"
    }
   },
   "outputs": [
    {
     "name": "stdout",
     "output_type": "stream",
     "text": [
      "[1]\n",
      "[1, 2]\n"
     ]
    }
   ],
   "source": [
    "starting_list = []\n",
    "starting_list.append(1)\n",
    "print(starting_list)\n",
    "starting_list.append(2)\n",
    "print(starting_list)"
   ]
  },
  {
   "cell_type": "code",
   "execution_count": 7,
   "metadata": {
    "execution": {
     "iopub.execute_input": "2022-02-15T17:30:36.866080Z",
     "iopub.status.busy": "2022-02-15T17:30:36.866022Z",
     "iopub.status.idle": "2022-02-15T17:30:37.168071Z",
     "shell.execute_reply": "2022-02-15T17:30:37.167836Z"
    }
   },
   "outputs": [
    {
     "ename": "StdinNotImplementedError",
     "evalue": "raw_input was called, but this frontend does not support input requests.",
     "output_type": "error",
     "traceback": [
      "\u001b[0;31m---------------------------------------------------------------------------\u001b[0m",
      "\u001b[0;31mStdinNotImplementedError\u001b[0m                  Traceback (most recent call last)",
      "Input \u001b[0;32mIn [7]\u001b[0m, in \u001b[0;36m<module>\u001b[0;34m\u001b[0m\n\u001b[1;32m      1\u001b[0m colors \u001b[38;5;241m=\u001b[39m []\n\u001b[1;32m      2\u001b[0m \u001b[38;5;28;01mfor\u001b[39;00m i \u001b[38;5;129;01min\u001b[39;00m \u001b[38;5;28mrange\u001b[39m(\u001b[38;5;241m3\u001b[39m):\n\u001b[0;32m----> 3\u001b[0m     color \u001b[38;5;241m=\u001b[39m \u001b[38;5;28;43minput\u001b[39;49m\u001b[43m(\u001b[49m\u001b[38;5;124;43m\"\u001b[39;49m\u001b[38;5;124;43mwhat is your favorite color\u001b[39;49m\u001b[38;5;124;43m\"\u001b[39;49m\u001b[43m)\u001b[49m\n\u001b[1;32m      4\u001b[0m     colors\u001b[38;5;241m.\u001b[39mappend(color)\n\u001b[1;32m      5\u001b[0m \u001b[38;5;28mprint\u001b[39m(colors)\n",
      "File \u001b[0;32m~/.virtualenvs/vscode/lib/python3.9/site-packages/ipykernel/kernelbase.py:1072\u001b[0m, in \u001b[0;36mKernel.raw_input\u001b[0;34m(self, prompt)\u001b[0m\n\u001b[1;32m   1065\u001b[0m \u001b[38;5;124;03m\"\"\"Forward raw_input to frontends\u001b[39;00m\n\u001b[1;32m   1066\u001b[0m \n\u001b[1;32m   1067\u001b[0m \u001b[38;5;124;03mRaises\u001b[39;00m\n\u001b[1;32m   1068\u001b[0m \u001b[38;5;124;03m------\u001b[39;00m\n\u001b[1;32m   1069\u001b[0m \u001b[38;5;124;03mStdinNotImplementedError if active frontend doesn't support stdin.\u001b[39;00m\n\u001b[1;32m   1070\u001b[0m \u001b[38;5;124;03m\"\"\"\u001b[39;00m\n\u001b[1;32m   1071\u001b[0m \u001b[38;5;28;01mif\u001b[39;00m \u001b[38;5;129;01mnot\u001b[39;00m \u001b[38;5;28mself\u001b[39m\u001b[38;5;241m.\u001b[39m_allow_stdin:\n\u001b[0;32m-> 1072\u001b[0m     \u001b[38;5;28;01mraise\u001b[39;00m StdinNotImplementedError(\n\u001b[1;32m   1073\u001b[0m         \u001b[38;5;124m\"\u001b[39m\u001b[38;5;124mraw_input was called, but this frontend does not support input requests.\u001b[39m\u001b[38;5;124m\"\u001b[39m\n\u001b[1;32m   1074\u001b[0m     )\n\u001b[1;32m   1075\u001b[0m \u001b[38;5;28;01mreturn\u001b[39;00m \u001b[38;5;28mself\u001b[39m\u001b[38;5;241m.\u001b[39m_input_request(\n\u001b[1;32m   1076\u001b[0m     \u001b[38;5;28mstr\u001b[39m(prompt),\n\u001b[1;32m   1077\u001b[0m     \u001b[38;5;28mself\u001b[39m\u001b[38;5;241m.\u001b[39m_parent_ident[\u001b[38;5;124m\"\u001b[39m\u001b[38;5;124mshell\u001b[39m\u001b[38;5;124m\"\u001b[39m],\n\u001b[1;32m   1078\u001b[0m     \u001b[38;5;28mself\u001b[39m\u001b[38;5;241m.\u001b[39mget_parent(\u001b[38;5;124m\"\u001b[39m\u001b[38;5;124mshell\u001b[39m\u001b[38;5;124m\"\u001b[39m),\n\u001b[1;32m   1079\u001b[0m     password\u001b[38;5;241m=\u001b[39m\u001b[38;5;28;01mFalse\u001b[39;00m,\n\u001b[1;32m   1080\u001b[0m )\n",
      "\u001b[0;31mStdinNotImplementedError\u001b[0m: raw_input was called, but this frontend does not support input requests."
     ]
    }
   ],
   "source": [
    "colors = []\n",
    "for i in range(3):\n",
    "    color = input(\"what is your favorite color\")\n",
    "    colors.append(color)\n",
    "print(colors)"
   ]
  },
  {
   "cell_type": "markdown",
   "metadata": {},
   "source": [
    "## List Indexing and Iteration"
   ]
  },
  {
   "cell_type": "code",
   "execution_count": 8,
   "metadata": {
    "execution": {
     "iopub.execute_input": "2022-02-15T17:30:37.169661Z",
     "iopub.status.busy": "2022-02-15T17:30:37.169571Z",
     "iopub.status.idle": "2022-02-15T17:30:37.171551Z",
     "shell.execute_reply": "2022-02-15T17:30:37.171365Z"
    }
   },
   "outputs": [
    {
     "name": "stdout",
     "output_type": "stream",
     "text": [
      "Hello Charles\n",
      "Hello Ivan\n",
      "Hello Hank\n",
      "Hello Feng-Jun\n"
     ]
    }
   ],
   "source": [
    "names = ['Charles', 'Ivan', 'Hank', 'Feng-Jun']\n",
    "print('Hello',names[0])\n",
    "print('Hello',names[1])\n",
    "print('Hello',names[2])\n",
    "print('Hello',names[3])"
   ]
  },
  {
   "cell_type": "code",
   "execution_count": 9,
   "metadata": {
    "execution": {
     "iopub.execute_input": "2022-02-15T17:30:37.172898Z",
     "iopub.status.busy": "2022-02-15T17:30:37.172824Z",
     "iopub.status.idle": "2022-02-15T17:30:37.174758Z",
     "shell.execute_reply": "2022-02-15T17:30:37.174559Z"
    }
   },
   "outputs": [
    {
     "name": "stdout",
     "output_type": "stream",
     "text": [
      "Hello Charles\n",
      "Hello Ivan\n",
      "Hello Hank\n",
      "Hello Feng-Jun\n"
     ]
    }
   ],
   "source": [
    "names = ['Charles', 'Ivan', 'Hank', 'Feng-Jun']\n",
    "for i in range(4):\n",
    "    print('Hello', names[i])"
   ]
  },
  {
   "cell_type": "markdown",
   "metadata": {},
   "source": [
    "### The `len()` function"
   ]
  },
  {
   "cell_type": "code",
   "execution_count": 10,
   "metadata": {
    "execution": {
     "iopub.execute_input": "2022-02-15T17:30:37.176128Z",
     "iopub.status.busy": "2022-02-15T17:30:37.176057Z",
     "iopub.status.idle": "2022-02-15T17:30:37.177843Z",
     "shell.execute_reply": "2022-02-15T17:30:37.177650Z"
    }
   },
   "outputs": [
    {
     "name": "stdout",
     "output_type": "stream",
     "text": [
      "Hello Charles\n",
      "Hello Ivan\n",
      "Hello Hank\n",
      "Hello Feng-Jun\n",
      "Hello Chris\n"
     ]
    }
   ],
   "source": [
    "names = ['Charles', 'Ivan', 'Hank', 'Feng-Jun', 'Chris']\n",
    "for i in range(len(names)):\n",
    "    print('Hello', names[i])"
   ]
  },
  {
   "cell_type": "code",
   "execution_count": 11,
   "metadata": {
    "execution": {
     "iopub.execute_input": "2022-02-15T17:30:37.179206Z",
     "iopub.status.busy": "2022-02-15T17:30:37.179130Z",
     "iopub.status.idle": "2022-02-15T17:30:37.181134Z",
     "shell.execute_reply": "2022-02-15T17:30:37.180942Z"
    }
   },
   "outputs": [
    {
     "name": "stdout",
     "output_type": "stream",
     "text": [
      "Hello Sebastian\n",
      "Hello Chris\n",
      "Hello Feng-Jun\n",
      "Hello Hank\n",
      "Hello Ivan\n",
      "Hello Charles\n"
     ]
    }
   ],
   "source": [
    "names = ['Charles', 'Ivan', 'Hank', 'Feng-Jun', 'Chris', 'Sebastian']\n",
    "for i in range(len(names)):\n",
    "    print('Hello', names[len(names)-i-1])"
   ]
  },
  {
   "cell_type": "code",
   "execution_count": 12,
   "metadata": {
    "execution": {
     "iopub.execute_input": "2022-02-15T17:30:37.182525Z",
     "iopub.status.busy": "2022-02-15T17:30:37.182432Z",
     "iopub.status.idle": "2022-02-15T17:30:37.184431Z",
     "shell.execute_reply": "2022-02-15T17:30:37.184235Z"
    }
   },
   "outputs": [
    {
     "name": "stdout",
     "output_type": "stream",
     "text": [
      "Hello Sebastian\n",
      "Hello Chris\n",
      "Hello Feng-Jun\n",
      "Hello Hank\n",
      "Hello Ivan\n",
      "Hello Charles\n"
     ]
    }
   ],
   "source": [
    "names = ['Charles', 'Ivan', 'Hank', 'Feng-Jun', 'Chris', 'Sebastian']\n",
    "for i in range(len(names)):\n",
    "    print('Hello', names[-i-1])"
   ]
  },
  {
   "cell_type": "code",
   "execution_count": 13,
   "metadata": {
    "execution": {
     "iopub.execute_input": "2022-02-15T17:30:37.185835Z",
     "iopub.status.busy": "2022-02-15T17:30:37.185739Z",
     "iopub.status.idle": "2022-02-15T17:30:37.187738Z",
     "shell.execute_reply": "2022-02-15T17:30:37.187540Z"
    }
   },
   "outputs": [
    {
     "name": "stdout",
     "output_type": "stream",
     "text": [
      "1,3,5,7,9,11,13,15,17,19,21,23,25,27,29,31,33,35,37,39,41,43,45,47,49,51,53,55,57,59,61,63,65,67,69,71,73,75,77,79,81,83,85,87,89,91,93,95,97,99,"
     ]
    }
   ],
   "source": [
    "for i in range(1,100,2):\n",
    "    print(i,end=',')"
   ]
  },
  {
   "cell_type": "markdown",
   "metadata": {},
   "source": [
    "### Conditionals in a for loop"
   ]
  },
  {
   "cell_type": "code",
   "execution_count": 14,
   "metadata": {
    "execution": {
     "iopub.execute_input": "2022-02-15T17:30:37.189276Z",
     "iopub.status.busy": "2022-02-15T17:30:37.189140Z",
     "iopub.status.idle": "2022-02-15T17:30:37.191198Z",
     "shell.execute_reply": "2022-02-15T17:30:37.190995Z"
    }
   },
   "outputs": [
    {
     "name": "stdout",
     "output_type": "stream",
     "text": [
      "Charles is studying in Python\n",
      "Ivan is studying in Python\n",
      "Hank is studying in Python\n",
      "Feng-Jun is studying in Python\n",
      "Chris went to study Scratch\n",
      "Sebastian is studying in Python\n"
     ]
    }
   ],
   "source": [
    "names = ['Charles', 'Ivan', 'Hank', 'Feng-Jun', 'Chris', 'Sebastian']\n",
    "for i in range(len(names)):\n",
    "    if names[i] == 'Chris':\n",
    "        print(names[i],'went to study Scratch')\n",
    "    else:\n",
    "        print(names[i], 'is studying in Python')"
   ]
  },
  {
   "cell_type": "markdown",
   "metadata": {},
   "source": [
    "The `for n in some_list:` loop"
   ]
  },
  {
   "cell_type": "code",
   "execution_count": 15,
   "metadata": {
    "execution": {
     "iopub.execute_input": "2022-02-15T17:30:37.192693Z",
     "iopub.status.busy": "2022-02-15T17:30:37.192549Z",
     "iopub.status.idle": "2022-02-15T17:30:37.194577Z",
     "shell.execute_reply": "2022-02-15T17:30:37.194379Z"
    }
   },
   "outputs": [
    {
     "name": "stdout",
     "output_type": "stream",
     "text": [
      "Charles is studying in Python\n",
      "Ivan is studying in Python\n",
      "Hank is studying in Python\n",
      "Feng-Jun is studying in Python\n",
      "Chris went to study Scratch\n",
      "Sebastian is studying in Python\n"
     ]
    }
   ],
   "source": [
    "names = ['Charles', 'Ivan', 'Hank', 'Feng-Jun', 'Chris', 'Sebastian']\n",
    "for n in names:\n",
    "    if n == 'Chris':\n",
    "        print(n,'went to study Scratch')\n",
    "    else:\n",
    "        print(n, 'is studying in Python')"
   ]
  },
  {
   "cell_type": "code",
   "execution_count": null,
   "metadata": {},
   "outputs": [],
   "source": []
  }
 ],
 "metadata": {
  "interpreter": {
   "hash": "18e07197cbb5fc0dd633c4fb89f98eb7fc8eeacfbcafbac19944ccf48d6efb73"
  },
  "kernelspec": {
   "display_name": "Python 3.8.5 64-bit ('3.8.5': pyenv)",
   "language": "python",
   "name": "python3"
  },
  "language_info": {
   "codemirror_mode": {
    "name": "ipython",
    "version": 3
   },
   "file_extension": ".py",
   "mimetype": "text/x-python",
   "name": "python",
   "nbconvert_exporter": "python",
   "pygments_lexer": "ipython3",
   "version": "3.9.9"
  }
 },
 "nbformat": 4,
 "nbformat_minor": 2
}
