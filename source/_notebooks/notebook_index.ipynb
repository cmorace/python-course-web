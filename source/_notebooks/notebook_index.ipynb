{
 "metadata": {
  "language_info": {
   "codemirror_mode": {
    "name": "ipython",
    "version": 3
   },
   "file_extension": ".py",
   "mimetype": "text/x-python",
   "name": "python",
   "nbconvert_exporter": "python",
   "pygments_lexer": "ipython3",
   "version": 3
  },
  "orig_nbformat": 2
 },
 "nbformat": 4,
 "nbformat_minor": 2,
 "cells": [
  {
   "source": [
    "# Jupyter Notebooks"
   ],
   "cell_type": "markdown",
   "metadata": {}
  },
  {
   "source": [
    "Jupyter notebooks run python code interactively, usually in a web-browser. They combine code and text in a single `.ipynb` file format and have many useful applications.\n",
    "\n",
    "Unlike regular python files, we can use Jupyter notebooks to run our programs line by line or piece by piece. This way we can decompose a difficult problem into smaller and less complex pieces, test that each piece of our program works properly, and finally put the pieces together to solve the original problem."
   ],
   "cell_type": "markdown",
   "metadata": {}
  },
  {
   "cell_type": "code",
   "execution_count": null,
   "metadata": {},
   "outputs": [],
   "source": []
  }
 ]
}