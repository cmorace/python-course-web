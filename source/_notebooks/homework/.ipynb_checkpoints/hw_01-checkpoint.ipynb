{
 "cells": [
  {
   "cell_type": "markdown",
   "metadata": {},
   "source": [
    "# Programming Fundamentals with Python: Lesson 01\n",
    "by Charles Morace"
   ]
  },
  {
   "cell_type": "markdown",
   "metadata": {},
   "source": [
    "## 1. Input and Output\n",
    "To get input from a user we can use the `input()` function.\n",
    "To print output to a user we can use the `print()` function."
   ]
  },
  {
   "cell_type": "code",
   "execution_count": 1,
   "metadata": {
    "tags": []
   },
   "outputs": [
    {
     "name": "stdin",
     "output_type": "stream",
     "text": [
      "Please type in your name:  Charles\n"
     ]
    },
    {
     "name": "stdout",
     "output_type": "stream",
     "text": [
      "The response is Charles\n",
      "The variable 'response' has type <class 'str'>\n"
     ]
    }
   ],
   "source": [
    "response = input(\"Please type in your name: \")\n",
    "print(\"The response is\", response)\n",
    "print(\"The variable 'response' has type\", type(response))"
   ]
  },
  {
   "cell_type": "markdown",
   "metadata": {},
   "source": [
    "The `input()` function takes a single argument of type `str` and returns whatever the user types into the input area. In the code sample above we save what the user types to a variable named `response`. The return value from `input()` is always a `str` type, even if the user types in a numeric value."
   ]
  },
  {
   "cell_type": "code",
   "execution_count": 2,
   "metadata": {
    "tags": []
   },
   "outputs": [
    {
     "name": "stdin",
     "output_type": "stream",
     "text": [
      "please type in a number:  42\n"
     ]
    },
    {
     "name": "stdout",
     "output_type": "stream",
     "text": [
      "The number is 42\n",
      "The variable 'number' has type <class 'str'>\n"
     ]
    }
   ],
   "source": [
    "number = input(\"please type in a number: \")\n",
    "print(\"The number is\", number)\n",
    "print(\"The variable 'number' has type\", type(number))"
   ]
  }
 ],
 "metadata": {
  "kernelspec": {
   "display_name": "Python 3.8.5 vscode virtualenv",
   "language": "python",
   "name": "python3"
  },
  "language_info": {
   "codemirror_mode": {
    "name": "ipython",
    "version": 3
   },
   "file_extension": ".py",
   "mimetype": "text/x-python",
   "name": "python",
   "nbconvert_exporter": "python",
   "pygments_lexer": "ipython3",
   "version": "3.8.5"
  }
 },
 "nbformat": 4,
 "nbformat_minor": 4
}
